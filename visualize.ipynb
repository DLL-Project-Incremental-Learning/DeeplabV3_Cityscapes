{
 "cells": [
  {
   "cell_type": "code",
   "execution_count": 1,
   "metadata": {},
   "outputs": [],
   "source": [
    "import os\n",
    "import sys\n",
    "import random\n",
    "import argparse\n",
    "import json\n",
    "import numpy as np\n",
    "from glob import glob\n",
    "from collections import namedtuple\n",
    "\n",
    "from tqdm import tqdm\n",
    "from PIL import Image\n",
    "import matplotlib.pyplot as plt\n",
    "import matplotlib\n",
    "import torch\n",
    "import torch.nn as nn\n",
    "from torch.utils import data\n",
    "from torch.utils.data import DataLoader, Dataset\n",
    "import torchvision.transforms as T\n",
    "from torchvision import transforms\n",
    "from sklearn.metrics import confusion_matrix, precision_score, recall_score, f1_score\n",
    "from reportlab.lib.pagesizes import landscape, letter\n",
    "from reportlab.platypus import SimpleDocTemplate, Table, TableStyle\n",
    "from reportlab.lib import colors\n",
    "\n",
    "import src.network as network\n",
    "import src.utils\n",
    "from src.utils import ext_transforms as et\n",
    "from src.metrics import StreamSegMetrics\n",
    "from datasets.dataloaders import DataProcessor, KITTI360Dataset, DatasetLoader\n",
    "from src.weaklabelgenerator import labelgenerator\n",
    "from misc.weaklabelgenerator_v1 import labelgenerator_v1\n",
    "from src.finetune_bucket import finetuner\n",
    "import wandb\n",
    "\n",
    "from IPython.display import display\n",
    "\n",
    "import sys\n",
    "import os\n",
    "import json\n",
    "import numpy as np\n",
    "import torch\n",
    "import torch.nn as nn\n",
    "from torch.utils import data\n",
    "import matplotlib.pyplot as plt\n",
    "import seaborn as sns\n",
    "from tqdm import tqdm\n",
    "from sklearn.metrics import confusion_matrix, precision_recall_fscore_support\n",
    "import pandas as pd\n",
    "from sklearn.metrics import f1_score, precision_score, recall_score\n",
    "import src.network as network\n",
    "from datasets.kitti_360 import KittiDatasetLoader\n",
    "from datasets.cityscapes_v1 import CityscapesDatasetLoader\n",
    "from src.metrics import StreamSegMetrics\n"
   ]
  },
  {
   "cell_type": "code",
   "execution_count": 2,
   "metadata": {},
   "outputs": [],
   "source": [
    "# Defining the model paths\n",
    "model_name = \"deeplabv3plus_resnet101\"\n",
    "old_model_path = 'checkpoints/best_deeplabv3plus_resnet101_cityscapes_os16.pth'\n",
    "# new_model_path = 'checkpoints/ranked_2k_class_SL_full_KD_pixel.pth'\n",
    "\n",
    "#new_model_path = 'checkpoints/latest_bucket_0_rand_deeplabv3plus_resnet101_kitti_os16.pth'\n",
    "\n",
    "# model = network.modeling.__dict__[model_name](num_classes=19, output_stride=16)"
   ]
  },
  {
   "cell_type": "code",
   "execution_count": 4,
   "metadata": {},
   "outputs": [],
   "source": [
    "# Load model\n",
    "device = torch.device('cuda' if torch.cuda.is_available() else 'cpu')\n",
    "\n",
    "def load_model(checkpoint_path, model_name='deeplabv3plus_resnet101', num_classes=19, output_stride=16):\n",
    "    model = network.modeling.__dict__[model_name](num_classes=num_classes, output_stride=output_stride)\n",
    "    checkpoint = torch.load(checkpoint_path, map_location=torch.device('cpu'))\n",
    "    model.load_state_dict(checkpoint[\"model_state\"])\n",
    "    model = nn.DataParallel(model)\n",
    "    model.to(device)\n",
    "    return model"
   ]
  },
  {
   "cell_type": "code",
   "execution_count": 5,
   "metadata": {},
   "outputs": [],
   "source": [
    "\n",
    "# Load data\n",
    "def load_data(json_file, dataset_name, num_test=2000):\n",
    "    if dataset_name == 'cityscapes':\n",
    "        dataset_loader = CityscapesDatasetLoader()\n",
    "    elif dataset_name == 'kitti_360':\n",
    "        dataset_loader = KittiDatasetLoader()\n",
    "    else:\n",
    "        raise ValueError(f\"Invalid dataset: {dataset_name}\")\n",
    "\n",
    "    with open(json_file, 'r') as file:\n",
    "        json_data = json.load(file)\n",
    "\n",
    "    val_image_paths = [item.get('image') for item in json_data if item.get('image_exists')]\n",
    "    val_ground_truth_paths = [item.get('ground_truth') for item in json_data if item.get('ground_truth_exists')]\n",
    "\n",
    "    if len(val_image_paths) > num_test:\n",
    "        sampled_indices = np.random.choice(len(val_image_paths), num_test, replace=False)\n",
    "        val_image_paths = [val_image_paths[i] for i in sampled_indices]\n",
    "        val_ground_truth_paths = [val_ground_truth_paths[i] for i in sampled_indices]\n",
    "        print(f\"Sampled {num_test} images from the dataset\")\n",
    "\n",
    "    val_dst = dataset_loader.get_datasets(val_image_paths, val_ground_truth_paths)\n",
    "    val_loader = data.DataLoader(val_dst, batch_size=4, shuffle=True, num_workers=2)\n",
    "    return val_loader, val_image_paths, val_ground_truth_paths\n"
   ]
  },
  {
   "cell_type": "code",
   "execution_count": 6,
   "metadata": {},
   "outputs": [],
   "source": [
    "# Validate model\n",
    "def validate(model, loader, device, metrics):\n",
    "    metrics.reset()\n",
    "    all_preds = []\n",
    "    all_targets = []\n",
    "    with torch.no_grad():\n",
    "        for i, (images, labels) in tqdm(enumerate(loader)):\n",
    "            images = images.to(device, dtype=torch.float32)\n",
    "            labels = labels.to(device, dtype=torch.long)\n",
    "            outputs = model(images)\n",
    "            preds = outputs.detach().max(dim=1)[1].cpu().numpy()\n",
    "            targets = labels.cpu().numpy()\n",
    "            metrics.update(targets, preds)\n",
    "            all_preds.extend(preds.flatten())\n",
    "            all_targets.extend(targets.flatten())\n",
    "    return metrics.get_results(), all_preds, all_targets\n"
   ]
  },
  {
   "cell_type": "code",
   "execution_count": 7,
   "metadata": {},
   "outputs": [],
   "source": [
    "\n",
    "# Calculate additional metrics\n",
    "def calculate_additional_metrics(all_preds, all_targets, num_classes):\n",
    "    precision, recall, f1, _ = precision_recall_fscore_support(all_targets, all_preds, average='weighted')\n",
    "    cm = confusion_matrix(all_targets, all_preds, labels=range(num_classes))\n",
    "    return {\n",
    "        'Precision': precision,\n",
    "        'Recall': recall,\n",
    "        'F1-Score': f1,\n",
    "        'Confusion Matrix': cm\n",
    "    }\n"
   ]
  },
  {
   "cell_type": "code",
   "execution_count": 8,
   "metadata": {},
   "outputs": [],
   "source": [
    "\n",
    "def plot_confusion_matrix(cm, class_names, title=None, normalize=True):\n",
    "    plt.figure(figsize=(12, 10))\n",
    "    \n",
    "    if normalize:\n",
    "        cm = cm.astype('float') / cm.sum(axis=1)[:, np.newaxis]\n",
    "        fmt = '.2f'\n",
    "    else:\n",
    "        fmt = 'd'\n",
    "    \n",
    "    sns.heatmap(cm, annot=True, fmt=fmt, cmap='Blues', xticklabels=class_names, yticklabels=class_names)\n",
    "    if title:\n",
    "        plt.title(title)\n",
    "    plt.xlabel('Predicted')\n",
    "    plt.ylabel('True')\n",
    "    plt.tight_layout()\n",
    "    plt.show()\n",
    "\n"
   ]
  },
  {
   "cell_type": "code",
   "execution_count": null,
   "metadata": {},
   "outputs": [],
   "source": []
  },
  {
   "cell_type": "code",
   "execution_count": 9,
   "metadata": {},
   "outputs": [
    {
     "name": "stdout",
     "output_type": "stream",
     "text": [
      "Using device: cuda\n"
     ]
    }
   ],
   "source": [
    "device = torch.device('cuda' if torch.cuda.is_available() else 'cpu')\n",
    "print(f\"Using device: {device}\")\n",
    "metrics = StreamSegMetrics(19)"
   ]
  },
  {
   "cell_type": "code",
   "execution_count": 10,
   "metadata": {},
   "outputs": [],
   "source": [
    "# Load models\n",
    "baseline_model = load_model(old_model_path)\n",
    "# finetuned_model = load_model(new_model_path)"
   ]
  },
  {
   "cell_type": "code",
   "execution_count": 11,
   "metadata": {},
   "outputs": [],
   "source": [
    "# Load data\n",
    "datasets = [\n",
    "        ('cityscapes', 'tests/cityscapes_val_set.json'),\n",
    "        ('kitti_360', 'tests/kitti-360_val_set_v3.json')\n",
    "    ]"
   ]
  },
  {
   "cell_type": "code",
   "execution_count": 12,
   "metadata": {},
   "outputs": [],
   "source": [
    "class_names = [\n",
    "        'road', 'sidewalk', 'building', 'wall', 'fence', 'pole', 'traffic light', 'traffic sign',\n",
    "        'vegetation', 'terrain', 'sky', 'person', 'rider', 'car', 'truck', 'bus', 'train',\n",
    "        'motorcycle', 'bicycle'\n",
    "    ]"
   ]
  },
  {
   "cell_type": "code",
   "execution_count": 13,
   "metadata": {},
   "outputs": [
    {
     "name": "stdout",
     "output_type": "stream",
     "text": [
      "\n",
      "Analyzing CITYSCAPES dataset:\n"
     ]
    },
    {
     "name": "stderr",
     "output_type": "stream",
     "text": [
      "42it [05:11,  7.41s/it]\n"
     ]
    },
    {
     "ename": "MemoryError",
     "evalue": "",
     "output_type": "error",
     "traceback": [
      "\u001b[1;31m---------------------------------------------------------------------------\u001b[0m",
      "\u001b[1;31mMemoryError\u001b[0m                               Traceback (most recent call last)",
      "Cell \u001b[1;32mIn[13], line 8\u001b[0m\n\u001b[0;32m      5\u001b[0m val_loader, _, _ \u001b[38;5;241m=\u001b[39m load_data(json_file, dataset_name)\n\u001b[0;32m      7\u001b[0m \u001b[38;5;66;03m# Validate models\u001b[39;00m\n\u001b[1;32m----> 8\u001b[0m baseline_results, baseline_preds, baseline_targets \u001b[38;5;241m=\u001b[39m \u001b[43mvalidate\u001b[49m\u001b[43m(\u001b[49m\u001b[43mbaseline_model\u001b[49m\u001b[43m,\u001b[49m\u001b[43m \u001b[49m\u001b[43mval_loader\u001b[49m\u001b[43m,\u001b[49m\u001b[43m \u001b[49m\u001b[43mdevice\u001b[49m\u001b[43m,\u001b[49m\u001b[43m \u001b[49m\u001b[43mmetrics\u001b[49m\u001b[43m)\u001b[49m\n\u001b[0;32m      9\u001b[0m fig \u001b[38;5;241m=\u001b[39m metrics\u001b[38;5;241m.\u001b[39mplot_confusion_matrix()\n\u001b[0;32m     10\u001b[0m \u001b[38;5;66;03m# Display the plot in Jupyter\u001b[39;00m\n",
      "Cell \u001b[1;32mIn[6], line 15\u001b[0m, in \u001b[0;36mvalidate\u001b[1;34m(model, loader, device, metrics)\u001b[0m\n\u001b[0;32m     13\u001b[0m         metrics\u001b[38;5;241m.\u001b[39mupdate(targets, preds)\n\u001b[0;32m     14\u001b[0m         all_preds\u001b[38;5;241m.\u001b[39mextend(preds\u001b[38;5;241m.\u001b[39mflatten())\n\u001b[1;32m---> 15\u001b[0m         \u001b[43mall_targets\u001b[49m\u001b[38;5;241;43m.\u001b[39;49m\u001b[43mextend\u001b[49m\u001b[43m(\u001b[49m\u001b[43mtargets\u001b[49m\u001b[38;5;241;43m.\u001b[39;49m\u001b[43mflatten\u001b[49m\u001b[43m(\u001b[49m\u001b[43m)\u001b[49m\u001b[43m)\u001b[49m\n\u001b[0;32m     16\u001b[0m \u001b[38;5;28;01mreturn\u001b[39;00m metrics\u001b[38;5;241m.\u001b[39mget_results(), all_preds, all_targets\n",
      "\u001b[1;31mMemoryError\u001b[0m: "
     ]
    }
   ],
   "source": [
    "for dataset_name, json_file in datasets:\n",
    "    print(f\"\\nAnalyzing {dataset_name.upper()} dataset:\")\n",
    "    \n",
    "    # Load data\n",
    "    val_loader, _, _ = load_data(json_file, dataset_name)\n",
    "    \n",
    "    # Validate models\n",
    "    baseline_results, baseline_preds, baseline_targets = validate(baseline_model, val_loader, device, metrics)\n",
    "    fig = metrics.plot_confusion_matrix()\n",
    "    # Display the plot in Jupyter\n",
    "    display(fig)\n",
    "    # Save the figure\n",
    "    fig.savefig('confusion_matrix_model1.png', bbox_inches='tight', dpi=300)\n",
    "    # Close the figure to free up memory\n",
    "    plt.close(fig)\n",
    "\n",
    "\n",
    "\n",
    "    # baseline_additional = metrics.get_precision_recall_f1()\n",
    "    \n",
    "    # finetuned_results, finetuned_preds, finetuned_targets = validate(finetuned_model, val_loader, device, metrics)\n",
    "    # # metrics.plot_confusion_matrix()\n",
    "    # fig = metrics.plot_confusion_matrix()\n",
    "    # # Display the plot in Jupyter\n",
    "    # display(fig)\n",
    "    # # Save the figure\n",
    "    # #fig.savefig('confusion_matrix_model2.png', bbox_inches='tight', dpi=300)\n",
    "    # # Close the figure to free up memory\n",
    "    # plt.close(fig)\n",
    "    \n",
    "    # finetuned_additional = metrics.get_precision_recall_f1()\n",
    "    \n",
    "    # # Combine all metrics\n",
    "    # baseline_metrics = {**baseline_results, **baseline_additional}\n",
    "    # finetuned_metrics = {**finetuned_results, **finetuned_additional}\n",
    "    \n",
    "    # # Print metrics\n",
    "    # print(\"Baseline Metrics:\")\n",
    "    # for k, v in baseline_metrics.items():\n",
    "    #     if k != 'Confusion Matrix':\n",
    "    #         print(f\"{k}: {v}\")\n",
    "    \n",
    "    # print(\"\\nFine-tuned Metrics:\")\n",
    "    # for k, v in finetuned_metrics.items():\n",
    "    #     if k != 'Confusion Matrix':\n",
    "    #         print(f\"{k}: {v}\")"
   ]
  },
  {
   "cell_type": "code",
   "execution_count": 12,
   "metadata": {},
   "outputs": [],
   "source": [
    "def plot_iou_comparison(baseline_iou, finetuned_iou, class_names, dataset_name):\n",
    "    plt.figure(figsize=(15, 8))\n",
    "    x = np.arange(len(class_names))\n",
    "    width = 0.35\n",
    "\n",
    "    baseline_values = [baseline_iou[i] for i in range(len(class_names))]\n",
    "    finetuned_values = [finetuned_iou[i] for i in range(len(class_names))]\n",
    "\n",
    "    plt.bar(x - width/2, baseline_values, width, label='Baseline', alpha=0.8)\n",
    "    plt.bar(x + width/2, finetuned_values, width, label='Fine-tuned', alpha=0.8)\n",
    "\n",
    "    plt.xlabel('Classes')\n",
    "    plt.ylabel('IoU')\n",
    "    plt.title(f'Class-wise IoU Comparison - {dataset_name}')\n",
    "    plt.xticks(x, class_names, rotation=90)\n",
    "    plt.legend()\n",
    "\n",
    "    # Add value labels on top of each bar\n",
    "    for i, v in enumerate(baseline_values):\n",
    "        plt.text(i - width/2, v, f'{v:.2f}', ha='center', va='bottom', rotation=90)\n",
    "    for i, v in enumerate(finetuned_values):\n",
    "        plt.text(i + width/2, v, f'{v:.2f}', ha='center', va='bottom', rotation=90)\n",
    "\n",
    "    plt.tight_layout()\n",
    "    plt.show()\n",
    "\n",
    "    \n",
    "def save_segmentation_maps(model, image_paths, output_dir, device, num_images=5):\n",
    "    os.makedirs(output_dir, exist_ok=True)\n",
    "    sampled_indices = random.sample(range(len(image_paths)), num_images)\n",
    "    model.eval()\n",
    "    with torch.no_grad():\n",
    "        for idx in sampled_indices:\n",
    "            image_path = image_paths[idx]\n",
    "            image = Image.open(image_path).convert('RGB')\n",
    "            image_tensor = torch.from_numpy(np.array(image)).float().permute(2, 0, 1).unsqueeze(0).to(device)\n",
    "            output = model(image_tensor).max(1)[1].cpu().numpy()[0]\n",
    "            segmentation_map = Image.fromarray(output.astype(np.uint8))\n",
    "\n",
    "            base_name = os.path.basename(image_path).split('.')[0]\n",
    "            image.save(os.path.join(output_dir, f'{base_name}_original.png'))\n",
    "            segmentation_map.save(os.path.join(output_dir, f'{base_name}_segmentation.png'))"
   ]
  },
  {
   "cell_type": "code",
   "execution_count": 14,
   "metadata": {},
   "outputs": [
    {
     "name": "stderr",
     "output_type": "stream",
     "text": [
      "posx and posy should be finite values\n",
      "posx and posy should be finite values\n"
     ]
    },
    {
     "data": {
      "image/png": "[encoded data removed]",
      "text/plain": [
       "<Figure size 1500x800 with 1 Axes>"
      ]
     },
     "metadata": {},
     "output_type": "display_data"
    },
    {
     "name": "stdout",
     "output_type": "stream",
     "text": [
      "\n",
      "Metrics Comparison for KITTI_360:\n",
      "        Metric  Baseline  Fine-tuned\n",
      "          mIoU  0.352444    0.402101\n",
      "Pixel Accuracy  0.778420    0.805960\n",
      " Mean Accuracy  0.615668    0.615090\n",
      "         FWIoU  0.657598    0.679512\n",
      "     Precision  0.494332    0.536112\n",
      "        Recall  0.486053    0.485598\n",
      "      F1-Score  0.452104    0.482626\n"
     ]
    }
   ],
   "source": [
    "   # Plot IoU comparison\n",
    "baseline_iou = [baseline_metrics['Class IoU'][i] for i in range(len(class_names))]\n",
    "finetuned_iou = [finetuned_metrics['Class IoU'][i] for i in range(len(class_names))]\n",
    "\n",
    "plot_iou_comparison(baseline_iou, finetuned_iou, class_names, dataset_name)\n",
    "    \n",
    "\n",
    "#Save segmentation maps\n",
    "#save_segmentation_maps(baseline_model, val_image_paths, f'segmentation_maps/{dataset_name}/baseline', device)\n",
    "#save_segmentation_maps(finetuned_model, val_image_paths, f'segmentation_maps/{dataset_name}/finetuned', device)\n",
    "    \n",
    "# Create a comparison table\n",
    "comparison_data = {\n",
    "    'Metric': ['mIoU', 'Pixel Accuracy', 'Mean Accuracy', 'FWIoU', 'Precision', 'Recall', 'F1-Score'],\n",
    "    'Baseline': [\n",
    "        baseline_metrics['Mean IoU'],\n",
    "        baseline_metrics['Overall Acc'],\n",
    "        baseline_metrics['Mean Acc'],\n",
    "        baseline_metrics['FreqW Acc'],\n",
    "        baseline_metrics['Precision'],\n",
    "        baseline_metrics['Recall'],\n",
    "        baseline_metrics['F1-Score']\n",
    "        ],\n",
    "    'Fine-tuned': [\n",
    "        finetuned_metrics['Mean IoU'],\n",
    "        finetuned_metrics['Overall Acc'],\n",
    "        finetuned_metrics['Mean Acc'],\n",
    "        finetuned_metrics['FreqW Acc'],\n",
    "        finetuned_metrics['Precision'],\n",
    "        finetuned_metrics['Recall'],\n",
    "        finetuned_metrics['F1-Score']\n",
    "        ]\n",
    "   }\n",
    "\n",
    "df = pd.DataFrame(comparison_data)\n",
    "print(f\"\\nMetrics Comparison for {dataset_name.upper()}:\")\n",
    "print(df.to_string(index=False))\n"
   ]
  },
  {
   "cell_type": "code",
   "execution_count": 2,
   "metadata": {},
   "outputs": [],
   "source": [
    "model_name = \"deeplabv3plus_resnet101\"\n",
    "ckpt = \"./checkpoints/best_deeplabv3plus_resnet101_cityscapes_os16.pth\"\n",
    "model = network.modeling.__dict__[model_name](num_classes=19, output_stride=16)"
   ]
  },
  {
   "cell_type": "code",
   "execution_count": 3,
   "metadata": {},
   "outputs": [],
   "source": [
    "image_files = [\"./datasets/data/KITTI-360/data_2d_raw/2013_05_28_drive_0000_sync/image_00/data_rect/0000011275.png\", \n",
    "               \"./datasets/data/KITTI-360/data_2d_raw/2013_05_28_drive_0000_sync/image_00/data_rect/0000000338.png\"]\n"
   ]
  },
  {
   "cell_type": "code",
   "execution_count": 4,
   "metadata": {},
   "outputs": [
    {
     "name": "stdout",
     "output_type": "stream",
     "text": [
      "Device: cuda\n",
      "Resume model from ./checkpoints/best_deeplabv3plus_resnet101_cityscapes_os16.pth\n"
     ]
    },
    {
     "name": "stderr",
     "output_type": "stream",
     "text": [
      "100%|██████████| 2/2 [00:00<00:00,  2.95it/s]"
     ]
    },
    {
     "name": "stdout",
     "output_type": "stream",
     "text": [
      "Overall average entropy for all images: 0.3098\n",
      "Overall average confidence for all images: 0.8958\n",
      "Saved image and label paths to kitti_360_00_full_filtered.json\n"
     ]
    },
    {
     "name": "stderr",
     "output_type": "stream",
     "text": [
      "\n"
     ]
    }
   ],
   "source": [
    "filtered_samples, train_labelgen = labelgenerator_v1(image_files, model, ckpt)"
   ]
  }
 ],
 "metadata": {
  "kernelspec": {
   "display_name": "lab",
   "language": "python",
   "name": "python3"
  },
  "language_info": {
   "codemirror_mode": {
    "name": "ipython",
    "version": 3
   },
   "file_extension": ".py",
   "mimetype": "text/x-python",
   "name": "python",
   "nbconvert_exporter": "python",
   "pygments_lexer": "ipython3",
   "version": "3.9.19"
  }
 },
 "nbformat": 4,
 "nbformat_minor": 2
}
