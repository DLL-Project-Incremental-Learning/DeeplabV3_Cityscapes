{
 "cells": [
  {
   "cell_type": "code",
   "execution_count": 1,
   "metadata": {},
   "outputs": [],
   "source": [
    "from dataloader import DataProcessor"
   ]
  },
  {
   "cell_type": "code",
   "execution_count": 2,
   "metadata": {},
   "outputs": [],
   "source": [
    "num_buckets = 6\n",
    "bucket_idx = 1\n",
    "processor = DataProcessor('results.json', num_buckets=num_buckets, train_ratio=0.8)\n"
   ]
  },
  {
   "cell_type": "code",
   "execution_count": 3,
   "metadata": {},
   "outputs": [
    {
     "name": "stdout",
     "output_type": "stream",
     "text": [
      "\n",
      "\n",
      "Number of images: 2040\n",
      "Image files: ['dataset/KITTI-360/data_2d_raw\\\\2013_05_28_drive_0004_sync\\\\image_00\\\\data_rect\\\\0000009440.png', 'dataset/KITTI-360/data_2d_raw\\\\2013_05_28_drive_0002_sync\\\\image_00\\\\data_rect\\\\0000004656.png', 'dataset/KITTI-360/data_2d_raw\\\\2013_05_28_drive_0004_sync\\\\image_00\\\\data_rect\\\\0000000870.png', 'dataset/KITTI-360/data_2d_raw\\\\2013_05_28_drive_0004_sync\\\\image_00\\\\data_rect\\\\0000004095.png', 'dataset/KITTI-360/data_2d_raw\\\\2013_05_28_drive_0002_sync\\\\image_00\\\\data_rect\\\\0000013051.png']\n"
     ]
    }
   ],
   "source": [
    "train_buckets, val_buckets = processor.asc_buckets()\n",
    "image_files = [d['image'] for d in train_buckets[bucket_idx]]\n",
    "print(\"\\n\\nNumber of images: %d\" % len(image_files))\n",
    "print(\"Image files: %s\" % image_files[:5])"
   ]
  },
  {
   "cell_type": "code",
   "execution_count": 8,
   "metadata": {},
   "outputs": [
    {
     "name": "stdout",
     "output_type": "stream",
     "text": [
      "dataset/KITTI-360/data_2d_raw\\2013_05_28_drive_0009_sync\\image_00\\data_rect\\0000004985.png\n"
     ]
    }
   ],
   "source": [
    "val_buckets_0  = [d['image'] for d in val_buckets[0]]\n",
    "print(val_buckets_0[:5][0])"
   ]
  },
  {
   "cell_type": "code",
   "execution_count": 4,
   "metadata": {},
   "outputs": [
    {
     "name": "stdout",
     "output_type": "stream",
     "text": [
      "\n",
      "\n",
      "Number of images: 2040\n",
      "Image files: ['dataset/KITTI-360/data_2d_raw\\\\2013_05_28_drive_0002_sync\\\\image_00\\\\data_rect\\\\0000006081.png', 'dataset/KITTI-360/data_2d_raw\\\\2013_05_28_drive_0009_sync\\\\image_00\\\\data_rect\\\\0000013585.png', 'dataset/KITTI-360/data_2d_raw\\\\2013_05_28_drive_0002_sync\\\\image_00\\\\data_rect\\\\0000011311.png', 'dataset/KITTI-360/data_2d_raw\\\\2013_05_28_drive_0002_sync\\\\image_00\\\\data_rect\\\\0000005291.png', 'dataset/KITTI-360/data_2d_raw\\\\2013_05_28_drive_0004_sync\\\\image_00\\\\data_rect\\\\0000011230.png']\n"
     ]
    }
   ],
   "source": [
    "train_buckets, val_buckets = processor.desc_buckets()\n",
    "image_files = [d['image'] for d in train_buckets[bucket_idx]]\n",
    "print(\"\\n\\nNumber of images: %d\" % len(image_files))\n",
    "print(\"Image files: %s\" % image_files[:5])"
   ]
  },
  {
   "cell_type": "code",
   "execution_count": 5,
   "metadata": {},
   "outputs": [
    {
     "name": "stdout",
     "output_type": "stream",
     "text": [
      "\n",
      "\n",
      "Number of images: 2040\n",
      "Image files: ['dataset/KITTI-360/data_2d_raw\\\\2013_05_28_drive_0002_sync\\\\image_00\\\\data_rect\\\\0000011546.png', 'dataset/KITTI-360/data_2d_raw\\\\2013_05_28_drive_0004_sync\\\\image_00\\\\data_rect\\\\0000004025.png', 'dataset/KITTI-360/data_2d_raw\\\\2013_05_28_drive_0004_sync\\\\image_00\\\\data_rect\\\\0000011305.png', 'dataset/KITTI-360/data_2d_raw\\\\2013_05_28_drive_0000_sync\\\\image_00\\\\data_rect\\\\0000008765.png', 'dataset/KITTI-360/data_2d_raw\\\\2013_05_28_drive_0002_sync\\\\image_00\\\\data_rect\\\\0000011651.png']\n"
     ]
    }
   ],
   "source": [
    "train_buckets, val_buckets = processor.random_buckets()\n",
    "image_files = [d['image'] for d in train_buckets[bucket_idx]]\n",
    "print(\"\\n\\nNumber of images: %d\" % len(image_files))\n",
    "print(\"Image files: %s\" % image_files[:5])"
   ]
  },
  {
   "cell_type": "code",
   "execution_count": null,
   "metadata": {},
   "outputs": [],
   "source": []
  }
 ],
 "metadata": {
  "kernelspec": {
   "display_name": "lab",
   "language": "python",
   "name": "python3"
  },
  "language_info": {
   "codemirror_mode": {
    "name": "ipython",
    "version": 3
   },
   "file_extension": ".py",
   "mimetype": "text/x-python",
   "name": "python",
   "nbconvert_exporter": "python",
   "pygments_lexer": "ipython3",
   "version": "3.8.19"
  }
 },
 "nbformat": 4,
 "nbformat_minor": 2
}
