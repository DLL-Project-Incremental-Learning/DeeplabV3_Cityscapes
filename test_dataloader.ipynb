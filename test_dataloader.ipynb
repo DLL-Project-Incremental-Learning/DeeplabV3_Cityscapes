{
 "cells": [
  {
   "cell_type": "code",
   "execution_count": 1,
   "metadata": {},
   "outputs": [],
   "source": [
    "from dataloaders import DataProcessor, KITTI360Dataset, DatasetLoader\n"
   ]
  },
  {
   "cell_type": "code",
   "execution_count": 5,
   "metadata": {},
   "outputs": [],
   "source": [
    "num_buckets = 6\n",
    "bucket_idx = 4\n",
    "processor = DataProcessor('results.json', num_buckets=num_buckets, train_ratio=0.8)\n"
   ]
  },
  {
   "cell_type": "code",
   "execution_count": 6,
   "metadata": {},
   "outputs": [
    {
     "name": "stdout",
     "output_type": "stream",
     "text": [
      "\n",
      "\n",
      "Number of images: 96\n",
      "Image files: ['datasets/data/KITTI-360/data_2d_raw\\\\2013_05_28_drive_0002_sync\\\\image_00\\\\data_rect\\\\0000017521.png', 'datasets/data/KITTI-360/data_2d_raw\\\\2013_05_28_drive_0009_sync\\\\image_00\\\\data_rect\\\\0000000305.png', 'datasets/data/KITTI-360/data_2d_raw\\\\2013_05_28_drive_0005_sync\\\\image_00\\\\data_rect\\\\0000002725.png', 'datasets/data/KITTI-360/data_2d_raw\\\\2013_05_28_drive_0002_sync\\\\image_00\\\\data_rect\\\\0000018196.png']\n",
      "\n",
      "\n",
      "Samples: ['datasets/data/KITTI-360/data_2d_raw\\\\2013_05_28_drive_0002_sync\\\\image_00\\\\data_rect\\\\0000017521.png', 'datasets/data/KITTI-360/data_2d_raw\\\\2013_05_28_drive_0009_sync\\\\image_00\\\\data_rect\\\\0000000305.png', 'datasets/data/KITTI-360/data_2d_raw\\\\2013_05_28_drive_0005_sync\\\\image_00\\\\data_rect\\\\0000002725.png', 'datasets/data/KITTI-360/data_2d_raw\\\\2013_05_28_drive_0002_sync\\\\image_00\\\\data_rect\\\\0000018196.png', 'datasets/data/KITTI-360/data_2d_raw\\\\2013_05_28_drive_0002_sync\\\\image_00\\\\data_rect\\\\0000013941.png', 'datasets/data/KITTI-360/data_2d_raw\\\\2013_05_28_drive_0006_sync\\\\image_00\\\\data_rect\\\\0000007485.png', 'datasets/data/KITTI-360/data_2d_raw\\\\2013_05_28_drive_0004_sync\\\\image_00\\\\data_rect\\\\0000009790.png', 'datasets/data/KITTI-360/data_2d_raw\\\\2013_05_28_drive_0002_sync\\\\image_00\\\\data_rect\\\\0000017716.png', 'datasets/data/KITTI-360/data_2d_raw\\\\2013_05_28_drive_0002_sync\\\\image_00\\\\data_rect\\\\0000014031.png', 'datasets/data/KITTI-360/data_2d_raw\\\\2013_05_28_drive_0004_sync\\\\image_00\\\\data_rect\\\\0000007640.png', 'datasets/data/KITTI-360/data_2d_raw\\\\2013_05_28_drive_0004_sync\\\\image_00\\\\data_rect\\\\0000006875.png', 'datasets/data/KITTI-360/data_2d_raw\\\\2013_05_28_drive_0002_sync\\\\image_00\\\\data_rect\\\\0000005966.png', 'datasets/data/KITTI-360/data_2d_raw\\\\2013_05_28_drive_0002_sync\\\\image_00\\\\data_rect\\\\0000013261.png', 'datasets/data/KITTI-360/data_2d_raw\\\\2013_05_28_drive_0005_sync\\\\image_00\\\\data_rect\\\\0000006710.png', 'datasets/data/KITTI-360/data_2d_raw\\\\2013_05_28_drive_0006_sync\\\\image_00\\\\data_rect\\\\0000006270.png', 'datasets/data/KITTI-360/data_2d_raw\\\\2013_05_28_drive_0002_sync\\\\image_00\\\\data_rect\\\\0000015516.png', 'datasets/data/KITTI-360/data_2d_raw\\\\2013_05_28_drive_0004_sync\\\\image_00\\\\data_rect\\\\0000008140.png', 'datasets/data/KITTI-360/data_2d_raw\\\\2013_05_28_drive_0005_sync\\\\image_00\\\\data_rect\\\\0000000460.png', 'datasets/data/KITTI-360/data_2d_raw\\\\2013_05_28_drive_0009_sync\\\\image_00\\\\data_rect\\\\0000012055.png', 'datasets/data/KITTI-360/data_2d_raw\\\\2013_05_28_drive_0003_sync\\\\image_00\\\\data_rect\\\\0000000720.png']\n"
     ]
    }
   ],
   "source": [
    "train_buckets, val_buckets = processor.asc_buckets()\n",
    "image_files = [d['image'] for d in train_buckets[bucket_idx]]\n",
    "print(\"\\n\\nNumber of images: %d\" % len(image_files[1]))\n",
    "print(\"Image files: %s\" % image_files[:4])\n",
    "\n",
    "samples = image_files[:20]\n",
    "print(\"\\n\\nSamples: %s\" % samples)"
   ]
  },
  {
   "cell_type": "code",
   "execution_count": 7,
   "metadata": {},
   "outputs": [
    {
     "name": "stdout",
     "output_type": "stream",
     "text": [
      "['datasets/data/KITTI-360/data_2d_raw\\\\2013_05_28_drive_0002_sync\\\\image_00\\\\data_rect\\\\0000017521.png', 'datasets/data/KITTI-360/data_2d_raw\\\\2013_05_28_drive_0009_sync\\\\image_00\\\\data_rect\\\\0000000305.png', 'datasets/data/KITTI-360/data_2d_raw\\\\2013_05_28_drive_0005_sync\\\\image_00\\\\data_rect\\\\0000002725.png', 'datasets/data/KITTI-360/data_2d_raw\\\\2013_05_28_drive_0002_sync\\\\image_00\\\\data_rect\\\\0000018196.png', 'datasets/data/KITTI-360/data_2d_raw\\\\2013_05_28_drive_0002_sync\\\\image_00\\\\data_rect\\\\0000013941.png', 'datasets/data/KITTI-360/data_2d_raw\\\\2013_05_28_drive_0006_sync\\\\image_00\\\\data_rect\\\\0000007485.png', 'datasets/data/KITTI-360/data_2d_raw\\\\2013_05_28_drive_0004_sync\\\\image_00\\\\data_rect\\\\0000009790.png', 'datasets/data/KITTI-360/data_2d_raw\\\\2013_05_28_drive_0002_sync\\\\image_00\\\\data_rect\\\\0000017716.png', 'datasets/data/KITTI-360/data_2d_raw\\\\2013_05_28_drive_0002_sync\\\\image_00\\\\data_rect\\\\0000014031.png', 'datasets/data/KITTI-360/data_2d_raw\\\\2013_05_28_drive_0004_sync\\\\image_00\\\\data_rect\\\\0000007640.png', 'datasets/data/KITTI-360/data_2d_raw\\\\2013_05_28_drive_0004_sync\\\\image_00\\\\data_rect\\\\0000006875.png', 'datasets/data/KITTI-360/data_2d_raw\\\\2013_05_28_drive_0002_sync\\\\image_00\\\\data_rect\\\\0000005966.png', 'datasets/data/KITTI-360/data_2d_raw\\\\2013_05_28_drive_0002_sync\\\\image_00\\\\data_rect\\\\0000013261.png', 'datasets/data/KITTI-360/data_2d_raw\\\\2013_05_28_drive_0005_sync\\\\image_00\\\\data_rect\\\\0000006710.png', 'datasets/data/KITTI-360/data_2d_raw\\\\2013_05_28_drive_0006_sync\\\\image_00\\\\data_rect\\\\0000006270.png', 'datasets/data/KITTI-360/data_2d_raw\\\\2013_05_28_drive_0002_sync\\\\image_00\\\\data_rect\\\\0000015516.png', 'datasets/data/KITTI-360/data_2d_raw\\\\2013_05_28_drive_0004_sync\\\\image_00\\\\data_rect\\\\0000008140.png', 'datasets/data/KITTI-360/data_2d_raw\\\\2013_05_28_drive_0005_sync\\\\image_00\\\\data_rect\\\\0000000460.png', 'datasets/data/KITTI-360/data_2d_raw\\\\2013_05_28_drive_0009_sync\\\\image_00\\\\data_rect\\\\0000012055.png', 'datasets/data/KITTI-360/data_2d_raw\\\\2013_05_28_drive_0003_sync\\\\image_00\\\\data_rect\\\\0000000720.png']\n",
      "Device: cuda\n",
      "Resume model from checkpoints/best_deeplabv3plus_resnet101_cityscapes_os16.pth\n"
     ]
    },
    {
     "name": "stderr",
     "output_type": "stream",
     "text": [
      "100%|██████████| 20/20 [00:04<00:00,  4.93it/s]"
     ]
    },
    {
     "name": "stdout",
     "output_type": "stream",
     "text": [
      "Overall average entropy for all images: 0.1739\n",
      "Overall average confidence for all images: 0.9408\n",
      "Saved image and label paths to output/weaklabels/KITTI-360/bucket_4/image_label_bucket_4.json\n"
     ]
    },
    {
     "name": "stderr",
     "output_type": "stream",
     "text": [
      "\n"
     ]
    }
   ],
   "source": [
    "from weaklabelgenerator import labelgenerator\n",
    "import network\n",
    "model = 'deeplabv3plus_resnet101'\n",
    "ckpt = \"checkpoints/best_deeplabv3plus_resnet101_cityscapes_os16.pth\"\n",
    "\n",
    "model = network.modeling.__dict__[model](num_classes=19, output_stride=16)\n",
    "\n",
    "print(samples)\n",
    "\n",
    "labelgen = labelgenerator(samples, model, ckpt, bucket_idx)"
   ]
  },
  {
   "cell_type": "code",
   "execution_count": 8,
   "metadata": {},
   "outputs": [
    {
     "name": "stdout",
     "output_type": "stream",
     "text": [
      "['datasets/data/KITTI-360/data_2d_raw\\\\2013_05_28_drive_0006_sync\\\\image_00\\\\data_rect\\\\0000008215.png', 'datasets/data/KITTI-360/data_2d_raw\\\\2013_05_28_drive_0000_sync\\\\image_00\\\\data_rect\\\\0000009545.png', 'datasets/data/KITTI-360/data_2d_raw\\\\2013_05_28_drive_0005_sync\\\\image_00\\\\data_rect\\\\0000001095.png', 'datasets/data/KITTI-360/data_2d_raw\\\\2013_05_28_drive_0000_sync\\\\image_00\\\\data_rect\\\\0000007830.png', 'datasets/data/KITTI-360/data_2d_raw\\\\2013_05_28_drive_0000_sync\\\\image_00\\\\data_rect\\\\0000004810.png', 'datasets/data/KITTI-360/data_2d_raw\\\\2013_05_28_drive_0009_sync\\\\image_00\\\\data_rect\\\\0000007520.png', 'datasets/data/KITTI-360/data_2d_raw\\\\2013_05_28_drive_0000_sync\\\\image_00\\\\data_rect\\\\0000009065.png', 'datasets/data/KITTI-360/data_2d_raw\\\\2013_05_28_drive_0004_sync\\\\image_00\\\\data_rect\\\\0000000325.png', 'datasets/data/KITTI-360/data_2d_raw\\\\2013_05_28_drive_0009_sync\\\\image_00\\\\data_rect\\\\0000003945.png', 'datasets/data/KITTI-360/data_2d_raw\\\\2013_05_28_drive_0004_sync\\\\image_00\\\\data_rect\\\\0000005550.png', 'datasets/data/KITTI-360/data_2d_raw\\\\2013_05_28_drive_0010_sync\\\\image_00\\\\data_rect\\\\0000000805.png', 'datasets/data/KITTI-360/data_2d_raw\\\\2013_05_28_drive_0009_sync\\\\image_00\\\\data_rect\\\\0000007215.png', 'datasets/data/KITTI-360/data_2d_raw\\\\2013_05_28_drive_0006_sync\\\\image_00\\\\data_rect\\\\0000007075.png', 'datasets/data/KITTI-360/data_2d_raw\\\\2013_05_28_drive_0000_sync\\\\image_00\\\\data_rect\\\\0000002030.png', 'datasets/data/KITTI-360/data_2d_raw\\\\2013_05_28_drive_0000_sync\\\\image_00\\\\data_rect\\\\0000005130.png', 'datasets/data/KITTI-360/data_2d_raw\\\\2013_05_28_drive_0006_sync\\\\image_00\\\\data_rect\\\\0000003930.png', 'datasets/data/KITTI-360/data_2d_raw\\\\2013_05_28_drive_0002_sync\\\\image_00\\\\data_rect\\\\0000010936.png', 'datasets/data/KITTI-360/data_2d_raw\\\\2013_05_28_drive_0002_sync\\\\image_00\\\\data_rect\\\\0000010261.png', 'datasets/data/KITTI-360/data_2d_raw\\\\2013_05_28_drive_0000_sync\\\\image_00\\\\data_rect\\\\0000005685.png', 'datasets/data/KITTI-360/data_2d_raw\\\\2013_05_28_drive_0002_sync\\\\image_00\\\\data_rect\\\\0000014326.png']\n",
      "Device: cuda\n",
      "Resume model from checkpoints/best_deeplabv3plus_resnet101_cityscapes_os16.pth\n"
     ]
    },
    {
     "name": "stderr",
     "output_type": "stream",
     "text": [
      "  0%|          | 0/20 [00:00<?, ?it/s]"
     ]
    },
    {
     "name": "stdout",
     "output_type": "stream",
     "text": [
      "Processing image: datasets/data/KITTI-360/data_2d_raw\\2013_05_28_drive_0006_sync\\image_00\\data_rect\\0000008215.png\n"
     ]
    },
    {
     "name": "stderr",
     "output_type": "stream",
     "text": [
      " 10%|█         | 2/20 [00:00<00:04,  3.79it/s]"
     ]
    },
    {
     "name": "stdout",
     "output_type": "stream",
     "text": [
      "Processing image: datasets/data/KITTI-360/data_2d_raw\\2013_05_28_drive_0000_sync\\image_00\\data_rect\\0000009545.png\n"
     ]
    },
    {
     "name": "stderr",
     "output_type": "stream",
     "text": [
      " 15%|█▌        | 3/20 [00:00<00:03,  4.36it/s]"
     ]
    },
    {
     "name": "stdout",
     "output_type": "stream",
     "text": [
      "Processing image: datasets/data/KITTI-360/data_2d_raw\\2013_05_28_drive_0005_sync\\image_00\\data_rect\\0000001095.png\n"
     ]
    },
    {
     "name": "stderr",
     "output_type": "stream",
     "text": [
      " 20%|██        | 4/20 [00:00<00:03,  4.71it/s]"
     ]
    },
    {
     "name": "stdout",
     "output_type": "stream",
     "text": [
      "Processing image: datasets/data/KITTI-360/data_2d_raw\\2013_05_28_drive_0000_sync\\image_00\\data_rect\\0000007830.png\n",
      "Processing image: datasets/data/KITTI-360/data_2d_raw\\2013_05_28_drive_0000_sync\\image_00\\data_rect\\0000004810.png\n"
     ]
    },
    {
     "name": "stderr",
     "output_type": "stream",
     "text": [
      " 30%|███       | 6/20 [00:01<00:02,  4.84it/s]"
     ]
    },
    {
     "name": "stdout",
     "output_type": "stream",
     "text": [
      "Processing image: datasets/data/KITTI-360/data_2d_raw\\2013_05_28_drive_0009_sync\\image_00\\data_rect\\0000007520.png\n"
     ]
    },
    {
     "name": "stderr",
     "output_type": "stream",
     "text": [
      " 35%|███▌      | 7/20 [00:01<00:02,  4.99it/s]"
     ]
    },
    {
     "name": "stdout",
     "output_type": "stream",
     "text": [
      "Processing image: datasets/data/KITTI-360/data_2d_raw\\2013_05_28_drive_0000_sync\\image_00\\data_rect\\0000009065.png\n"
     ]
    },
    {
     "name": "stderr",
     "output_type": "stream",
     "text": [
      " 40%|████      | 8/20 [00:01<00:02,  5.08it/s]"
     ]
    },
    {
     "name": "stdout",
     "output_type": "stream",
     "text": [
      "Processing image: datasets/data/KITTI-360/data_2d_raw\\2013_05_28_drive_0004_sync\\image_00\\data_rect\\0000000325.png\n"
     ]
    },
    {
     "name": "stderr",
     "output_type": "stream",
     "text": [
      " 45%|████▌     | 9/20 [00:01<00:02,  5.12it/s]"
     ]
    },
    {
     "name": "stdout",
     "output_type": "stream",
     "text": [
      "Processing image: datasets/data/KITTI-360/data_2d_raw\\2013_05_28_drive_0009_sync\\image_00\\data_rect\\0000003945.png\n"
     ]
    },
    {
     "name": "stderr",
     "output_type": "stream",
     "text": [
      " 50%|█████     | 10/20 [00:02<00:01,  5.15it/s]"
     ]
    },
    {
     "name": "stdout",
     "output_type": "stream",
     "text": [
      "Processing image: datasets/data/KITTI-360/data_2d_raw\\2013_05_28_drive_0004_sync\\image_00\\data_rect\\0000005550.png\n"
     ]
    },
    {
     "name": "stderr",
     "output_type": "stream",
     "text": [
      " 55%|█████▌    | 11/20 [00:02<00:01,  5.19it/s]"
     ]
    },
    {
     "name": "stdout",
     "output_type": "stream",
     "text": [
      "Processing image: datasets/data/KITTI-360/data_2d_raw\\2013_05_28_drive_0010_sync\\image_00\\data_rect\\0000000805.png\n"
     ]
    },
    {
     "name": "stderr",
     "output_type": "stream",
     "text": [
      " 60%|██████    | 12/20 [00:02<00:01,  5.20it/s]"
     ]
    },
    {
     "name": "stdout",
     "output_type": "stream",
     "text": [
      "Processing image: datasets/data/KITTI-360/data_2d_raw\\2013_05_28_drive_0009_sync\\image_00\\data_rect\\0000007215.png\n"
     ]
    },
    {
     "name": "stderr",
     "output_type": "stream",
     "text": [
      " 65%|██████▌   | 13/20 [00:02<00:01,  5.20it/s]"
     ]
    },
    {
     "name": "stdout",
     "output_type": "stream",
     "text": [
      "Processing image: datasets/data/KITTI-360/data_2d_raw\\2013_05_28_drive_0006_sync\\image_00\\data_rect\\0000007075.png\n"
     ]
    },
    {
     "name": "stderr",
     "output_type": "stream",
     "text": [
      " 70%|███████   | 14/20 [00:02<00:01,  5.23it/s]"
     ]
    },
    {
     "name": "stdout",
     "output_type": "stream",
     "text": [
      "Processing image: datasets/data/KITTI-360/data_2d_raw\\2013_05_28_drive_0000_sync\\image_00\\data_rect\\0000002030.png\n"
     ]
    },
    {
     "name": "stderr",
     "output_type": "stream",
     "text": [
      " 75%|███████▌  | 15/20 [00:03<00:00,  5.25it/s]"
     ]
    },
    {
     "name": "stdout",
     "output_type": "stream",
     "text": [
      "Processing image: datasets/data/KITTI-360/data_2d_raw\\2013_05_28_drive_0000_sync\\image_00\\data_rect\\0000005130.png\n"
     ]
    },
    {
     "name": "stderr",
     "output_type": "stream",
     "text": [
      " 80%|████████  | 16/20 [00:03<00:00,  5.21it/s]"
     ]
    },
    {
     "name": "stdout",
     "output_type": "stream",
     "text": [
      "Processing image: datasets/data/KITTI-360/data_2d_raw\\2013_05_28_drive_0006_sync\\image_00\\data_rect\\0000003930.png\n"
     ]
    },
    {
     "name": "stderr",
     "output_type": "stream",
     "text": [
      " 85%|████████▌ | 17/20 [00:03<00:00,  5.18it/s]"
     ]
    },
    {
     "name": "stdout",
     "output_type": "stream",
     "text": [
      "Processing image: datasets/data/KITTI-360/data_2d_raw\\2013_05_28_drive_0002_sync\\image_00\\data_rect\\0000010936.png\n"
     ]
    },
    {
     "name": "stderr",
     "output_type": "stream",
     "text": [
      " 90%|█████████ | 18/20 [00:03<00:00,  5.13it/s]"
     ]
    },
    {
     "name": "stdout",
     "output_type": "stream",
     "text": [
      "Processing image: datasets/data/KITTI-360/data_2d_raw\\2013_05_28_drive_0002_sync\\image_00\\data_rect\\0000010261.png\n"
     ]
    },
    {
     "name": "stderr",
     "output_type": "stream",
     "text": [
      " 95%|█████████▌| 19/20 [00:03<00:00,  5.16it/s]"
     ]
    },
    {
     "name": "stdout",
     "output_type": "stream",
     "text": [
      "Processing image: datasets/data/KITTI-360/data_2d_raw\\2013_05_28_drive_0000_sync\\image_00\\data_rect\\0000005685.png\n"
     ]
    },
    {
     "name": "stderr",
     "output_type": "stream",
     "text": [
      "100%|██████████| 20/20 [00:04<00:00,  5.16it/s]"
     ]
    },
    {
     "name": "stdout",
     "output_type": "stream",
     "text": [
      "Processing image: datasets/data/KITTI-360/data_2d_raw\\2013_05_28_drive_0002_sync\\image_00\\data_rect\\0000014326.png\n"
     ]
    },
    {
     "name": "stderr",
     "output_type": "stream",
     "text": [
      "100%|██████████| 20/20 [00:04<00:00,  4.96it/s]"
     ]
    },
    {
     "name": "stdout",
     "output_type": "stream",
     "text": [
      "Overall average entropy for all images: 0.1661\n",
      "Overall average confidence for all images: 0.9439\n",
      "Saved image and label paths to output/weaklabels/KITTI-360/bucket_2/image_label_bucket_2.json\n"
     ]
    },
    {
     "name": "stderr",
     "output_type": "stream",
     "text": [
      "\n"
     ]
    }
   ],
   "source": [
    "from weaklabelgenerator import labelgenerator\n",
    "model = 'deeplabv3plus_resnet101'\n",
    "ckpt = \"checkpoints/best_deeplabv3plus_resnet101_cityscapes_os16.pth\"\n",
    "\n",
    "print(samples)\n",
    "\n",
    "labelgen = labelgenerator(samples, model, ckpt, bucket_idx)"
   ]
  },
  {
   "cell_type": "code",
   "execution_count": 8,
   "metadata": {},
   "outputs": [
    {
     "name": "stdout",
     "output_type": "stream",
     "text": [
      "dataset/KITTI-360/data_2d_raw\\2013_05_28_drive_0009_sync\\image_00\\data_rect\\0000004985.png\n"
     ]
    }
   ],
   "source": [
    "val_buckets_0  = [d['image'] for d in val_buckets[0]]\n",
    "print(val_buckets_0[:5][0])"
   ]
  },
  {
   "cell_type": "code",
   "execution_count": 4,
   "metadata": {},
   "outputs": [
    {
     "name": "stdout",
     "output_type": "stream",
     "text": [
      "\n",
      "\n",
      "Number of images: 2040\n",
      "Image files: ['dataset/KITTI-360/data_2d_raw\\\\2013_05_28_drive_0002_sync\\\\image_00\\\\data_rect\\\\0000006081.png', 'dataset/KITTI-360/data_2d_raw\\\\2013_05_28_drive_0009_sync\\\\image_00\\\\data_rect\\\\0000013585.png', 'dataset/KITTI-360/data_2d_raw\\\\2013_05_28_drive_0002_sync\\\\image_00\\\\data_rect\\\\0000011311.png', 'dataset/KITTI-360/data_2d_raw\\\\2013_05_28_drive_0002_sync\\\\image_00\\\\data_rect\\\\0000005291.png', 'dataset/KITTI-360/data_2d_raw\\\\2013_05_28_drive_0004_sync\\\\image_00\\\\data_rect\\\\0000011230.png']\n"
     ]
    }
   ],
   "source": [
    "train_buckets, val_buckets = processor.desc_buckets()\n",
    "image_files = [d['image'] for d in train_buckets[bucket_idx]]\n",
    "print(\"\\n\\nNumber of images: %d\" % len(image_files))\n",
    "print(\"Image files: %s\" % image_files[:5])"
   ]
  },
  {
   "cell_type": "code",
   "execution_count": 5,
   "metadata": {},
   "outputs": [
    {
     "name": "stdout",
     "output_type": "stream",
     "text": [
      "\n",
      "\n",
      "Number of images: 2040\n",
      "Image files: ['dataset/KITTI-360/data_2d_raw\\\\2013_05_28_drive_0002_sync\\\\image_00\\\\data_rect\\\\0000011546.png', 'dataset/KITTI-360/data_2d_raw\\\\2013_05_28_drive_0004_sync\\\\image_00\\\\data_rect\\\\0000004025.png', 'dataset/KITTI-360/data_2d_raw\\\\2013_05_28_drive_0004_sync\\\\image_00\\\\data_rect\\\\0000011305.png', 'dataset/KITTI-360/data_2d_raw\\\\2013_05_28_drive_0000_sync\\\\image_00\\\\data_rect\\\\0000008765.png', 'dataset/KITTI-360/data_2d_raw\\\\2013_05_28_drive_0002_sync\\\\image_00\\\\data_rect\\\\0000011651.png']\n"
     ]
    }
   ],
   "source": [
    "train_buckets, val_buckets = processor.random_buckets()\n",
    "image_files = [d['image'] for d in train_buckets[bucket_idx]]\n",
    "print(\"\\n\\nNumber of images: %d\" % len(image_files))\n",
    "print(\"Image files: %s\" % image_files[:5])"
   ]
  },
  {
   "cell_type": "code",
   "execution_count": null,
   "metadata": {},
   "outputs": [],
   "source": []
  }
 ],
 "metadata": {
  "kernelspec": {
   "display_name": "lab",
   "language": "python",
   "name": "python3"
  },
  "language_info": {
   "codemirror_mode": {
    "name": "ipython",
    "version": 3
   },
   "file_extension": ".py",
   "mimetype": "text/x-python",
   "name": "python",
   "nbconvert_exporter": "python",
   "pygments_lexer": "ipython3",
   "version": "3.9.19"
  }
 },
 "nbformat": 4,
 "nbformat_minor": 2
}
