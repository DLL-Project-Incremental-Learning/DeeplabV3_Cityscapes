{
 "cells": [
  {
   "cell_type": "code",
   "execution_count": 1,
   "metadata": {},
   "outputs": [],
   "source": [
    "from dataloaders import DataProcessor, KITTI360Dataset, DatasetLoader\n"
   ]
  },
  {
   "cell_type": "code",
   "execution_count": 2,
   "metadata": {},
   "outputs": [],
   "source": [
    "num_buckets = 6\n",
    "bucket_idx = 0\n",
    "processor = DataProcessor('results.json', num_buckets=num_buckets, train_ratio=0.8)\n"
   ]
  },
  {
   "cell_type": "code",
   "execution_count": 3,
   "metadata": {},
   "outputs": [
    {
     "name": "stdout",
     "output_type": "stream",
     "text": [
      "\n",
      "\n",
      "Number of images: 96\n",
      "Image files: ['datasets/data/KITTI-360/data_2d_raw\\\\2013_05_28_drive_0004_sync\\\\image_00\\\\data_rect\\\\0000009825.png', 'datasets/data/KITTI-360/data_2d_raw\\\\2013_05_28_drive_0000_sync\\\\image_00\\\\data_rect\\\\0000010045.png', 'datasets/data/KITTI-360/data_2d_raw\\\\2013_05_28_drive_0010_sync\\\\image_00\\\\data_rect\\\\0000002340.png', 'datasets/data/KITTI-360/data_2d_raw\\\\2013_05_28_drive_0006_sync\\\\image_00\\\\data_rect\\\\0000008030.png']\n",
      "\n",
      "\n",
      "Samples: ['datasets/data/KITTI-360/data_2d_raw\\\\2013_05_28_drive_0004_sync\\\\image_00\\\\data_rect\\\\0000009825.png', 'datasets/data/KITTI-360/data_2d_raw\\\\2013_05_28_drive_0000_sync\\\\image_00\\\\data_rect\\\\0000010045.png', 'datasets/data/KITTI-360/data_2d_raw\\\\2013_05_28_drive_0010_sync\\\\image_00\\\\data_rect\\\\0000002340.png', 'datasets/data/KITTI-360/data_2d_raw\\\\2013_05_28_drive_0006_sync\\\\image_00\\\\data_rect\\\\0000008030.png', 'datasets/data/KITTI-360/data_2d_raw\\\\2013_05_28_drive_0010_sync\\\\image_00\\\\data_rect\\\\0000002345.png', 'datasets/data/KITTI-360/data_2d_raw\\\\2013_05_28_drive_0010_sync\\\\image_00\\\\data_rect\\\\0000001990.png', 'datasets/data/KITTI-360/data_2d_raw\\\\2013_05_28_drive_0009_sync\\\\image_00\\\\data_rect\\\\0000009855.png', 'datasets/data/KITTI-360/data_2d_raw\\\\2013_05_28_drive_0007_sync\\\\image_00\\\\data_rect\\\\0000002975.png', 'datasets/data/KITTI-360/data_2d_raw\\\\2013_05_28_drive_0009_sync\\\\image_00\\\\data_rect\\\\0000010610.png', 'datasets/data/KITTI-360/data_2d_raw\\\\2013_05_28_drive_0009_sync\\\\image_00\\\\data_rect\\\\0000003235.png', 'datasets/data/KITTI-360/data_2d_raw\\\\2013_05_28_drive_0000_sync\\\\image_00\\\\data_rect\\\\0000007660.png', 'datasets/data/KITTI-360/data_2d_raw\\\\2013_05_28_drive_0010_sync\\\\image_00\\\\data_rect\\\\0000002555.png', 'datasets/data/KITTI-360/data_2d_raw\\\\2013_05_28_drive_0010_sync\\\\image_00\\\\data_rect\\\\0000000425.png', 'datasets/data/KITTI-360/data_2d_raw\\\\2013_05_28_drive_0009_sync\\\\image_00\\\\data_rect\\\\0000004060.png', 'datasets/data/KITTI-360/data_2d_raw\\\\2013_05_28_drive_0006_sync\\\\image_00\\\\data_rect\\\\0000008545.png', 'datasets/data/KITTI-360/data_2d_raw\\\\2013_05_28_drive_0000_sync\\\\image_00\\\\data_rect\\\\0000007750.png', 'datasets/data/KITTI-360/data_2d_raw\\\\2013_05_28_drive_0007_sync\\\\image_00\\\\data_rect\\\\0000002660.png', 'datasets/data/KITTI-360/data_2d_raw\\\\2013_05_28_drive_0000_sync\\\\image_00\\\\data_rect\\\\0000004910.png', 'datasets/data/KITTI-360/data_2d_raw\\\\2013_05_28_drive_0004_sync\\\\image_00\\\\data_rect\\\\0000010085.png', 'datasets/data/KITTI-360/data_2d_raw\\\\2013_05_28_drive_0004_sync\\\\image_00\\\\data_rect\\\\0000004780.png']\n",
      "Validation Samples: ['datasets/data/KITTI-360/data_2d_raw\\\\2013_05_28_drive_0009_sync\\\\image_00\\\\data_rect\\\\0000002935.png', 'datasets/data/KITTI-360/data_2d_raw\\\\2013_05_28_drive_0010_sync\\\\image_00\\\\data_rect\\\\0000000375.png', 'datasets/data/KITTI-360/data_2d_raw\\\\2013_05_28_drive_0009_sync\\\\image_00\\\\data_rect\\\\0000000095.png', 'datasets/data/KITTI-360/data_2d_raw\\\\2013_05_28_drive_0009_sync\\\\image_00\\\\data_rect\\\\0000003100.png', 'datasets/data/KITTI-360/data_2d_raw\\\\2013_05_28_drive_0000_sync\\\\image_00\\\\data_rect\\\\0000002380.png', 'datasets/data/KITTI-360/data_2d_raw\\\\2013_05_28_drive_0009_sync\\\\image_00\\\\data_rect\\\\0000012980.png', 'datasets/data/KITTI-360/data_2d_raw\\\\2013_05_28_drive_0009_sync\\\\image_00\\\\data_rect\\\\0000010470.png', 'datasets/data/KITTI-360/data_2d_raw\\\\2013_05_28_drive_0009_sync\\\\image_00\\\\data_rect\\\\0000010335.png', 'datasets/data/KITTI-360/data_2d_raw\\\\2013_05_28_drive_0000_sync\\\\image_00\\\\data_rect\\\\0000003505.png', 'datasets/data/KITTI-360/data_2d_raw\\\\2013_05_28_drive_0000_sync\\\\image_00\\\\data_rect\\\\0000002515.png']\n"
     ]
    }
   ],
   "source": [
    "train_buckets, val_buckets = processor.asc_buckets()\n",
    "image_files = [d['image'] for d in train_buckets[bucket_idx]]\n",
    "val_image_files = [d['image'] for d in val_buckets[bucket_idx]]\n",
    "print(\"\\n\\nNumber of images: %d\" % len(image_files[1]))\n",
    "print(\"Image files: %s\" % image_files[:4])\n",
    "\n",
    "samples = image_files[:20]\n",
    "val_samples = val_image_files[:10]\n",
    "print(\"\\n\\nSamples: %s\" % samples)\n",
    "print(\"Validation Samples: %s\" % val_samples)"
   ]
  },
  {
   "cell_type": "code",
   "execution_count": 4,
   "metadata": {},
   "outputs": [
    {
     "name": "stdout",
     "output_type": "stream",
     "text": [
      "Device: cuda\n",
      "Resume model from checkpoints/best_deeplabv3plus_resnet101_cityscapes_os16.pth\n"
     ]
    },
    {
     "name": "stderr",
     "output_type": "stream",
     "text": [
      "100%|██████████| 20/20 [00:04<00:00,  4.16it/s]\n"
     ]
    },
    {
     "name": "stdout",
     "output_type": "stream",
     "text": [
      "Overall average entropy for all images: 0.2492\n",
      "Overall average confidence for all images: 0.9179\n",
      "Saved image and label paths to outputs/weaklabels/KITTI-360/asc/bucket_0/image_label_bucket_0.json\n",
      "\n",
      " Weak labeling for val samples now...\n",
      "Device: cuda\n",
      "Resume model from checkpoints/best_deeplabv3plus_resnet101_cityscapes_os16.pth\n"
     ]
    },
    {
     "name": "stderr",
     "output_type": "stream",
     "text": [
      "100%|██████████| 10/10 [00:01<00:00,  8.89it/s]"
     ]
    },
    {
     "name": "stdout",
     "output_type": "stream",
     "text": [
      "Overall average entropy for all images: 0.1996\n",
      "Overall average confidence for all images: 0.9344\n",
      "Saved image and label paths to outputs/weaklabels/KITTI-360/asc/val_bucket_0/image_label_val_bucket_0.json\n"
     ]
    },
    {
     "name": "stderr",
     "output_type": "stream",
     "text": [
      "\n"
     ]
    }
   ],
   "source": [
    "from weaklabelgenerator import labelgenerator\n",
    "import network\n",
    "model = 'deeplabv3plus_resnet101'\n",
    "ckpt = \"checkpoints/best_deeplabv3plus_resnet101_cityscapes_os16.pth\"\n",
    "\n",
    "model = network.modeling.__dict__[model](num_classes=19, output_stride=16)\n",
    "\n",
    "# print(samples)\n",
    "\n",
    "labelgen = labelgenerator(samples, model, ckpt, bucket_idx, val=False, order=\"asc\")\n",
    "print(\"\\n Weak labeling for val samples now...\")\n",
    "labelgen = labelgenerator(val_samples, model, ckpt, bucket_idx, val=True, order=\"asc\")"
   ]
  },
  {
   "cell_type": "code",
   "execution_count": 8,
   "metadata": {},
   "outputs": [
    {
     "name": "stdout",
     "output_type": "stream",
     "text": [
      "['datasets/data/KITTI-360/data_2d_raw\\\\2013_05_28_drive_0006_sync\\\\image_00\\\\data_rect\\\\0000008215.png', 'datasets/data/KITTI-360/data_2d_raw\\\\2013_05_28_drive_0000_sync\\\\image_00\\\\data_rect\\\\0000009545.png', 'datasets/data/KITTI-360/data_2d_raw\\\\2013_05_28_drive_0005_sync\\\\image_00\\\\data_rect\\\\0000001095.png', 'datasets/data/KITTI-360/data_2d_raw\\\\2013_05_28_drive_0000_sync\\\\image_00\\\\data_rect\\\\0000007830.png', 'datasets/data/KITTI-360/data_2d_raw\\\\2013_05_28_drive_0000_sync\\\\image_00\\\\data_rect\\\\0000004810.png', 'datasets/data/KITTI-360/data_2d_raw\\\\2013_05_28_drive_0009_sync\\\\image_00\\\\data_rect\\\\0000007520.png', 'datasets/data/KITTI-360/data_2d_raw\\\\2013_05_28_drive_0000_sync\\\\image_00\\\\data_rect\\\\0000009065.png', 'datasets/data/KITTI-360/data_2d_raw\\\\2013_05_28_drive_0004_sync\\\\image_00\\\\data_rect\\\\0000000325.png', 'datasets/data/KITTI-360/data_2d_raw\\\\2013_05_28_drive_0009_sync\\\\image_00\\\\data_rect\\\\0000003945.png', 'datasets/data/KITTI-360/data_2d_raw\\\\2013_05_28_drive_0004_sync\\\\image_00\\\\data_rect\\\\0000005550.png', 'datasets/data/KITTI-360/data_2d_raw\\\\2013_05_28_drive_0010_sync\\\\image_00\\\\data_rect\\\\0000000805.png', 'datasets/data/KITTI-360/data_2d_raw\\\\2013_05_28_drive_0009_sync\\\\image_00\\\\data_rect\\\\0000007215.png', 'datasets/data/KITTI-360/data_2d_raw\\\\2013_05_28_drive_0006_sync\\\\image_00\\\\data_rect\\\\0000007075.png', 'datasets/data/KITTI-360/data_2d_raw\\\\2013_05_28_drive_0000_sync\\\\image_00\\\\data_rect\\\\0000002030.png', 'datasets/data/KITTI-360/data_2d_raw\\\\2013_05_28_drive_0000_sync\\\\image_00\\\\data_rect\\\\0000005130.png', 'datasets/data/KITTI-360/data_2d_raw\\\\2013_05_28_drive_0006_sync\\\\image_00\\\\data_rect\\\\0000003930.png', 'datasets/data/KITTI-360/data_2d_raw\\\\2013_05_28_drive_0002_sync\\\\image_00\\\\data_rect\\\\0000010936.png', 'datasets/data/KITTI-360/data_2d_raw\\\\2013_05_28_drive_0002_sync\\\\image_00\\\\data_rect\\\\0000010261.png', 'datasets/data/KITTI-360/data_2d_raw\\\\2013_05_28_drive_0000_sync\\\\image_00\\\\data_rect\\\\0000005685.png', 'datasets/data/KITTI-360/data_2d_raw\\\\2013_05_28_drive_0002_sync\\\\image_00\\\\data_rect\\\\0000014326.png']\n",
      "Device: cuda\n",
      "Resume model from checkpoints/best_deeplabv3plus_resnet101_cityscapes_os16.pth\n"
     ]
    },
    {
     "name": "stderr",
     "output_type": "stream",
     "text": [
      "  0%|          | 0/20 [00:00<?, ?it/s]"
     ]
    },
    {
     "name": "stdout",
     "output_type": "stream",
     "text": [
      "Processing image: datasets/data/KITTI-360/data_2d_raw\\2013_05_28_drive_0006_sync\\image_00\\data_rect\\0000008215.png\n"
     ]
    },
    {
     "name": "stderr",
     "output_type": "stream",
     "text": [
      " 10%|█         | 2/20 [00:00<00:04,  3.79it/s]"
     ]
    },
    {
     "name": "stdout",
     "output_type": "stream",
     "text": [
      "Processing image: datasets/data/KITTI-360/data_2d_raw\\2013_05_28_drive_0000_sync\\image_00\\data_rect\\0000009545.png\n"
     ]
    },
    {
     "name": "stderr",
     "output_type": "stream",
     "text": [
      " 15%|█▌        | 3/20 [00:00<00:03,  4.36it/s]"
     ]
    },
    {
     "name": "stdout",
     "output_type": "stream",
     "text": [
      "Processing image: datasets/data/KITTI-360/data_2d_raw\\2013_05_28_drive_0005_sync\\image_00\\data_rect\\0000001095.png\n"
     ]
    },
    {
     "name": "stderr",
     "output_type": "stream",
     "text": [
      " 20%|██        | 4/20 [00:00<00:03,  4.71it/s]"
     ]
    },
    {
     "name": "stdout",
     "output_type": "stream",
     "text": [
      "Processing image: datasets/data/KITTI-360/data_2d_raw\\2013_05_28_drive_0000_sync\\image_00\\data_rect\\0000007830.png\n",
      "Processing image: datasets/data/KITTI-360/data_2d_raw\\2013_05_28_drive_0000_sync\\image_00\\data_rect\\0000004810.png\n"
     ]
    },
    {
     "name": "stderr",
     "output_type": "stream",
     "text": [
      " 30%|███       | 6/20 [00:01<00:02,  4.84it/s]"
     ]
    },
    {
     "name": "stdout",
     "output_type": "stream",
     "text": [
      "Processing image: datasets/data/KITTI-360/data_2d_raw\\2013_05_28_drive_0009_sync\\image_00\\data_rect\\0000007520.png\n"
     ]
    },
    {
     "name": "stderr",
     "output_type": "stream",
     "text": [
      " 35%|███▌      | 7/20 [00:01<00:02,  4.99it/s]"
     ]
    },
    {
     "name": "stdout",
     "output_type": "stream",
     "text": [
      "Processing image: datasets/data/KITTI-360/data_2d_raw\\2013_05_28_drive_0000_sync\\image_00\\data_rect\\0000009065.png\n"
     ]
    },
    {
     "name": "stderr",
     "output_type": "stream",
     "text": [
      " 40%|████      | 8/20 [00:01<00:02,  5.08it/s]"
     ]
    },
    {
     "name": "stdout",
     "output_type": "stream",
     "text": [
      "Processing image: datasets/data/KITTI-360/data_2d_raw\\2013_05_28_drive_0004_sync\\image_00\\data_rect\\0000000325.png\n"
     ]
    },
    {
     "name": "stderr",
     "output_type": "stream",
     "text": [
      " 45%|████▌     | 9/20 [00:01<00:02,  5.12it/s]"
     ]
    },
    {
     "name": "stdout",
     "output_type": "stream",
     "text": [
      "Processing image: datasets/data/KITTI-360/data_2d_raw\\2013_05_28_drive_0009_sync\\image_00\\data_rect\\0000003945.png\n"
     ]
    },
    {
     "name": "stderr",
     "output_type": "stream",
     "text": [
      " 50%|█████     | 10/20 [00:02<00:01,  5.15it/s]"
     ]
    },
    {
     "name": "stdout",
     "output_type": "stream",
     "text": [
      "Processing image: datasets/data/KITTI-360/data_2d_raw\\2013_05_28_drive_0004_sync\\image_00\\data_rect\\0000005550.png\n"
     ]
    },
    {
     "name": "stderr",
     "output_type": "stream",
     "text": [
      " 55%|█████▌    | 11/20 [00:02<00:01,  5.19it/s]"
     ]
    },
    {
     "name": "stdout",
     "output_type": "stream",
     "text": [
      "Processing image: datasets/data/KITTI-360/data_2d_raw\\2013_05_28_drive_0010_sync\\image_00\\data_rect\\0000000805.png\n"
     ]
    },
    {
     "name": "stderr",
     "output_type": "stream",
     "text": [
      " 60%|██████    | 12/20 [00:02<00:01,  5.20it/s]"
     ]
    },
    {
     "name": "stdout",
     "output_type": "stream",
     "text": [
      "Processing image: datasets/data/KITTI-360/data_2d_raw\\2013_05_28_drive_0009_sync\\image_00\\data_rect\\0000007215.png\n"
     ]
    },
    {
     "name": "stderr",
     "output_type": "stream",
     "text": [
      " 65%|██████▌   | 13/20 [00:02<00:01,  5.20it/s]"
     ]
    },
    {
     "name": "stdout",
     "output_type": "stream",
     "text": [
      "Processing image: datasets/data/KITTI-360/data_2d_raw\\2013_05_28_drive_0006_sync\\image_00\\data_rect\\0000007075.png\n"
     ]
    },
    {
     "name": "stderr",
     "output_type": "stream",
     "text": [
      " 70%|███████   | 14/20 [00:02<00:01,  5.23it/s]"
     ]
    },
    {
     "name": "stdout",
     "output_type": "stream",
     "text": [
      "Processing image: datasets/data/KITTI-360/data_2d_raw\\2013_05_28_drive_0000_sync\\image_00\\data_rect\\0000002030.png\n"
     ]
    },
    {
     "name": "stderr",
     "output_type": "stream",
     "text": [
      " 75%|███████▌  | 15/20 [00:03<00:00,  5.25it/s]"
     ]
    },
    {
     "name": "stdout",
     "output_type": "stream",
     "text": [
      "Processing image: datasets/data/KITTI-360/data_2d_raw\\2013_05_28_drive_0000_sync\\image_00\\data_rect\\0000005130.png\n"
     ]
    },
    {
     "name": "stderr",
     "output_type": "stream",
     "text": [
      " 80%|████████  | 16/20 [00:03<00:00,  5.21it/s]"
     ]
    },
    {
     "name": "stdout",
     "output_type": "stream",
     "text": [
      "Processing image: datasets/data/KITTI-360/data_2d_raw\\2013_05_28_drive_0006_sync\\image_00\\data_rect\\0000003930.png\n"
     ]
    },
    {
     "name": "stderr",
     "output_type": "stream",
     "text": [
      " 85%|████████▌ | 17/20 [00:03<00:00,  5.18it/s]"
     ]
    },
    {
     "name": "stdout",
     "output_type": "stream",
     "text": [
      "Processing image: datasets/data/KITTI-360/data_2d_raw\\2013_05_28_drive_0002_sync\\image_00\\data_rect\\0000010936.png\n"
     ]
    },
    {
     "name": "stderr",
     "output_type": "stream",
     "text": [
      " 90%|█████████ | 18/20 [00:03<00:00,  5.13it/s]"
     ]
    },
    {
     "name": "stdout",
     "output_type": "stream",
     "text": [
      "Processing image: datasets/data/KITTI-360/data_2d_raw\\2013_05_28_drive_0002_sync\\image_00\\data_rect\\0000010261.png\n"
     ]
    },
    {
     "name": "stderr",
     "output_type": "stream",
     "text": [
      " 95%|█████████▌| 19/20 [00:03<00:00,  5.16it/s]"
     ]
    },
    {
     "name": "stdout",
     "output_type": "stream",
     "text": [
      "Processing image: datasets/data/KITTI-360/data_2d_raw\\2013_05_28_drive_0000_sync\\image_00\\data_rect\\0000005685.png\n"
     ]
    },
    {
     "name": "stderr",
     "output_type": "stream",
     "text": [
      "100%|██████████| 20/20 [00:04<00:00,  5.16it/s]"
     ]
    },
    {
     "name": "stdout",
     "output_type": "stream",
     "text": [
      "Processing image: datasets/data/KITTI-360/data_2d_raw\\2013_05_28_drive_0002_sync\\image_00\\data_rect\\0000014326.png\n"
     ]
    },
    {
     "name": "stderr",
     "output_type": "stream",
     "text": [
      "100%|██████████| 20/20 [00:04<00:00,  4.96it/s]"
     ]
    },
    {
     "name": "stdout",
     "output_type": "stream",
     "text": [
      "Overall average entropy for all images: 0.1661\n",
      "Overall average confidence for all images: 0.9439\n",
      "Saved image and label paths to output/weaklabels/KITTI-360/bucket_2/image_label_bucket_2.json\n"
     ]
    },
    {
     "name": "stderr",
     "output_type": "stream",
     "text": [
      "\n"
     ]
    }
   ],
   "source": [
    "from weaklabelgenerator import labelgenerator\n",
    "model = 'deeplabv3plus_resnet101'\n",
    "ckpt = \"checkpoints/best_deeplabv3plus_resnet101_cityscapes_os16.pth\"\n",
    "\n",
    "print(samples)\n",
    "\n",
    "labelgen = labelgenerator(samples, model, ckpt, bucket_idx)"
   ]
  },
  {
   "cell_type": "code",
   "execution_count": 8,
   "metadata": {},
   "outputs": [
    {
     "name": "stdout",
     "output_type": "stream",
     "text": [
      "dataset/KITTI-360/data_2d_raw\\2013_05_28_drive_0009_sync\\image_00\\data_rect\\0000004985.png\n"
     ]
    }
   ],
   "source": [
    "val_buckets_0  = [d['image'] for d in val_buckets[0]]\n",
    "print(val_buckets_0[:5][0])"
   ]
  },
  {
   "cell_type": "code",
   "execution_count": 4,
   "metadata": {},
   "outputs": [
    {
     "name": "stdout",
     "output_type": "stream",
     "text": [
      "\n",
      "\n",
      "Number of images: 2040\n",
      "Image files: ['dataset/KITTI-360/data_2d_raw\\\\2013_05_28_drive_0002_sync\\\\image_00\\\\data_rect\\\\0000006081.png', 'dataset/KITTI-360/data_2d_raw\\\\2013_05_28_drive_0009_sync\\\\image_00\\\\data_rect\\\\0000013585.png', 'dataset/KITTI-360/data_2d_raw\\\\2013_05_28_drive_0002_sync\\\\image_00\\\\data_rect\\\\0000011311.png', 'dataset/KITTI-360/data_2d_raw\\\\2013_05_28_drive_0002_sync\\\\image_00\\\\data_rect\\\\0000005291.png', 'dataset/KITTI-360/data_2d_raw\\\\2013_05_28_drive_0004_sync\\\\image_00\\\\data_rect\\\\0000011230.png']\n"
     ]
    }
   ],
   "source": [
    "train_buckets, val_buckets = processor.desc_buckets()\n",
    "image_files = [d['image'] for d in train_buckets[bucket_idx]]\n",
    "print(\"\\n\\nNumber of images: %d\" % len(image_files))\n",
    "print(\"Image files: %s\" % image_files[:5])"
   ]
  },
  {
   "cell_type": "code",
   "execution_count": 5,
   "metadata": {},
   "outputs": [
    {
     "name": "stdout",
     "output_type": "stream",
     "text": [
      "\n",
      "\n",
      "Number of images: 2040\n",
      "Image files: ['dataset/KITTI-360/data_2d_raw\\\\2013_05_28_drive_0002_sync\\\\image_00\\\\data_rect\\\\0000011546.png', 'dataset/KITTI-360/data_2d_raw\\\\2013_05_28_drive_0004_sync\\\\image_00\\\\data_rect\\\\0000004025.png', 'dataset/KITTI-360/data_2d_raw\\\\2013_05_28_drive_0004_sync\\\\image_00\\\\data_rect\\\\0000011305.png', 'dataset/KITTI-360/data_2d_raw\\\\2013_05_28_drive_0000_sync\\\\image_00\\\\data_rect\\\\0000008765.png', 'dataset/KITTI-360/data_2d_raw\\\\2013_05_28_drive_0002_sync\\\\image_00\\\\data_rect\\\\0000011651.png']\n"
     ]
    }
   ],
   "source": [
    "train_buckets, val_buckets = processor.random_buckets()\n",
    "image_files = [d['image'] for d in train_buckets[bucket_idx]]\n",
    "print(\"\\n\\nNumber of images: %d\" % len(image_files))\n",
    "print(\"Image files: %s\" % image_files[:5])"
   ]
  },
  {
   "cell_type": "code",
   "execution_count": null,
   "metadata": {},
   "outputs": [],
   "source": []
  }
 ],
 "metadata": {
  "kernelspec": {
   "display_name": "lab",
   "language": "python",
   "name": "python3"
  },
  "language_info": {
   "codemirror_mode": {
    "name": "ipython",
    "version": 3
   },
   "file_extension": ".py",
   "mimetype": "text/x-python",
   "name": "python",
   "nbconvert_exporter": "python",
   "pygments_lexer": "ipython3",
   "version": "3.8.19"
  }
 },
 "nbformat": 4,
 "nbformat_minor": 2
}
