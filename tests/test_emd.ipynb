{
 "cells": [
  {
   "cell_type": "code",
   "execution_count": 2,
   "metadata": {},
   "outputs": [
    {
     "ename": "NameError",
     "evalue": "name '__file__' is not defined",
     "output_type": "error",
     "traceback": [
      "\u001b[1;31m---------------------------------------------------------------------------\u001b[0m",
      "\u001b[1;31mNameError\u001b[0m                                 Traceback (most recent call last)",
      "Cell \u001b[1;32mIn[2], line 5\u001b[0m\n\u001b[0;32m      2\u001b[0m \u001b[38;5;28;01mimport\u001b[39;00m \u001b[38;5;21;01mos\u001b[39;00m\n\u001b[0;32m      4\u001b[0m \u001b[38;5;66;03m# Add the parent directory to the system path\u001b[39;00m\n\u001b[1;32m----> 5\u001b[0m sys\u001b[38;5;241m.\u001b[39mpath\u001b[38;5;241m.\u001b[39mappend(os\u001b[38;5;241m.\u001b[39mpath\u001b[38;5;241m.\u001b[39mabspath(os\u001b[38;5;241m.\u001b[39mpath\u001b[38;5;241m.\u001b[39mjoin(os\u001b[38;5;241m.\u001b[39mpath\u001b[38;5;241m.\u001b[39mdirname(\u001b[38;5;18;43m__file__\u001b[39;49m), \u001b[38;5;124m'\u001b[39m\u001b[38;5;124m..\u001b[39m\u001b[38;5;124m'\u001b[39m)))\n\u001b[0;32m      7\u001b[0m \u001b[38;5;28;01mfrom\u001b[39;00m \u001b[38;5;21;01mtqdm\u001b[39;00m \u001b[38;5;28;01mimport\u001b[39;00m tqdm\n\u001b[0;32m      8\u001b[0m \u001b[38;5;28;01mimport\u001b[39;00m \u001b[38;5;21;01msrc\u001b[39;00m\u001b[38;5;21;01m.\u001b[39;00m\u001b[38;5;21;01mnetwork\u001b[39;00m \u001b[38;5;28;01mas\u001b[39;00m \u001b[38;5;21;01mnetwork\u001b[39;00m\n",
      "\u001b[1;31mNameError\u001b[0m: name '__file__' is not defined"
     ]
    }
   ],
   "source": [
    "import sys\n",
    "import os\n",
    "\n",
    "# Add the parent directory to the system path\n",
    "sys.path.append(os.path.abspath(os.path.join(os.path.dirname(__file__), '..')))\n",
    "\n",
    "from tqdm import tqdm\n",
    "import src.network as network\n",
    "import src.utils\n",
    "import os\n",
    "import argparse\n",
    "import numpy as np\n",
    "import json\n",
    "import torch\n",
    "import torch.nn as nn\n",
    "from torch.utils import data\n",
    "from datasets.kitti_360 import KittiDatasetLoader\n",
    "from datasets.cityscapes_v1 import CityscapesDatasetLoader\n",
    "from src.metrics import StreamSegMetrics\n",
    "from reportlab.lib.pagesizes import landscape, letter\n",
    "from reportlab.platypus import SimpleDocTemplate, Table, TableStyle\n",
    "from reportlab.lib import colors\n"
   ]
  },
  {
   "cell_type": "code",
   "execution_count": 31,
   "metadata": {},
   "outputs": [],
   "source": [
    "import numpy as np \n",
    "import os \n",
    "import json\n"
   ]
  },
  {
   "cell_type": "code",
   "execution_count": 38,
   "metadata": {},
   "outputs": [],
   "source": [
    "with open('../assets/rank_1_val.json') as f:\n",
    "    master_val = json.load(f)"
   ]
  },
  {
   "cell_type": "code",
   "execution_count": 39,
   "metadata": {},
   "outputs": [],
   "source": [
    "# sort the master val json by the emd_block_11 value\n",
    "\n",
    "master_val = sorted(master_val, key=lambda x: x['emd_block_11'])"
   ]
  },
  {
   "cell_type": "code",
   "execution_count": 34,
   "metadata": {},
   "outputs": [],
   "source": [
    "# in all the rows, replace 'image_path' with 'image'\n",
    "for i in range(len(master_val)):\n",
    "    master_val[i]['image'] = master_val[i]['image_path']\n",
    "    del master_val[i]['image_path']"
   ]
  },
  {
   "cell_type": "code",
   "execution_count": 35,
   "metadata": {},
   "outputs": [],
   "source": [
    "# image looks like this: \"image\": \"datasets/data/KITTI-360/data_2d_raw/2013_05_28_drive_0000_sync/image_00/data_rect/0000000386.png\",\n",
    "# add ground truth like this for each image like this:  \"ground_truth\": \"datasets/data/KITTI-360/data_2d_semantics/train/2013_05_28_drive_0000_sync/image_00/semantic/0000000386.png\",\n",
    "\n",
    "for i in range(len(master_val)):\n",
    "    master_val[i]['ground_truth'] = master_val[i]['image'].replace('data_2d_raw', 'data_2d_semantics/train').replace('data_rect', 'semantic')\n",
    "    master_val[i]['ground_truth'] = master_val[i]['ground_truth'].replace('image_00', 'image_00')\n",
    "    master_val[i]['ground_truth'] = master_val[i]['ground_truth'].replace('png', 'png')\n",
    "    master_val[i]['ground_truth'] = master_val[i]['ground_truth'].replace('jpg', 'png')"
   ]
  },
  {
   "cell_type": "code",
   "execution_count": 36,
   "metadata": {},
   "outputs": [],
   "source": [
    "# Add these two rows to each entry in the master_val json\n",
    "# \"image_exists\": true,\n",
    "#\"ground_truth_exists\": true\n",
    "\n",
    "for i in range(len(master_val)):\n",
    "    master_val[i]['image_exists'] = True\n",
    "    master_val[i]['ground_truth_exists'] = True\n"
   ]
  },
  {
   "cell_type": "code",
   "execution_count": null,
   "metadata": {},
   "outputs": [],
   "source": []
  },
  {
   "cell_type": "code",
   "execution_count": 40,
   "metadata": {},
   "outputs": [
    {
     "name": "stdout",
     "output_type": "stream",
     "text": [
      "2616\n",
      "Group 1 mean: 18.353369822968112\n",
      "Group 1 std: 0.5259146374729137\n",
      "Group 2 mean: 19.337871654888623\n",
      "Group 2 std: 0.18687033691444538\n",
      "Group 3 mean: 19.83987479966404\n",
      "Group 3 std: 0.11170702167243415\n",
      "Group 4 mean: 20.164787628829757\n",
      "Group 4 std: 0.08096239178264612\n"
     ]
    }
   ],
   "source": [
    "print(len(master_val))\n",
    "\n",
    "# select first 2000 elements and split them into 4 groups of 500 each\n",
    "\n",
    "group1 = master_val[:500]\n",
    "group2 = master_val[500:1000]\n",
    "group3 = master_val[1000:1500]\n",
    "group4 = master_val[1500:2000]\n",
    "\n",
    "\n",
    "# print mean and std of emd_block_11 for each group\n",
    "\n",
    "group1_emd = [x['emd_block_11'] for x in group1]\n",
    "group2_emd = [x['emd_block_11'] for x in group2]\n",
    "group3_emd = [x['emd_block_11'] for x in group3]\n",
    "group4_emd = [x['emd_block_11'] for x in group4]\n",
    "\n",
    "print('Group 1 mean:', np.mean(group1_emd))\n",
    "print('Group 1 std:', np.std(group1_emd))\n",
    "\n",
    "print('Group 2 mean:', np.mean(group2_emd))\n",
    "print('Group 2 std:', np.std(group2_emd))\n",
    "\n",
    "print('Group 3 mean:', np.mean(group3_emd))\n",
    "print('Group 3 std:', np.std(group3_emd))\n",
    "\n",
    "print('Group 4 mean:', np.mean(group4_emd))\n",
    "print('Group 4 std:', np.std(group4_emd))\n",
    "\n",
    "\n",
    "\n",
    "\n",
    "# save the groups into separate json files\n",
    "\n",
    "# with open('../assets/group1.json', 'w') as f:\n",
    "#     json.dump(group1, f, indent=4)\n",
    "\n",
    "# with open('../assets/group2.json', 'w') as f:\n",
    "#     json.dump(group2, f, indent=4)\n",
    "\n",
    "# with open('../assets/group3.json', 'w') as f:\n",
    "#     json.dump(group3, f, indent=4)\n",
    "\n",
    "# with open('../assets/group4.json', 'w') as f:\n",
    "#     json.dump(group4, f, indent=4)\n",
    "\n",
    "# print('Done')"
   ]
  },
  {
   "cell_type": "code",
   "execution_count": 43,
   "metadata": {},
   "outputs": [
    {
     "name": "stdout",
     "output_type": "stream",
     "text": [
      "Device: cuda\n",
      "setting up metrics\n",
      "Model: deeplabv3plus_resnet101, Output Stride: 16\n",
      "Model restored from ../checkpoints/latest_bucket_0_rand_deeplabv3plus_resnet101_kitti_os16.pth\n",
      "Number of validation images for kitti_360: 500\n",
      "Number of validation ground truth images for kitti_360: 500\n"
     ]
    },
    {
     "name": "stderr",
     "output_type": "stream",
     "text": [
      "\n",
      "0it [00:00, ?it/s]\n",
      "0it [00:00, ?it/s]\n",
      "Traceback (most recent call last):\n",
      "  File \"test_v5.py\", line 194, in <module>\n",
      "    main()\n",
      "  File \"test_v5.py\", line 184, in main\n",
      "    process_dataset(opts.json_file2, 'kitti_360', opts, model, device, metrics, results)\n",
      "  File \"test_v5.py\", line 131, in process_dataset\n",
      "    val_score = validate(opts=opts, model=model, loader=val_loader, device=device, metrics=metrics, image_paths=val_image_paths, label_paths=val_ground_truth_paths)\n",
      "  File \"test_v5.py\", line 40, in validate\n",
      "    for i, (images, labels) in tqdm(enumerate(loader)):\n",
      "  File \"c:\\Users\\kbpra\\anaconda3\\envs\\lab\\lib\\site-packages\\tqdm\\std.py\", line 1181, in __iter__\n",
      "    for obj in iterable:\n",
      "  File \"c:\\Users\\kbpra\\anaconda3\\envs\\lab\\lib\\site-packages\\torch\\utils\\data\\dataloader.py\", line 631, in __next__\n",
      "    data = self._next_data()\n",
      "  File \"c:\\Users\\kbpra\\anaconda3\\envs\\lab\\lib\\site-packages\\torch\\utils\\data\\dataloader.py\", line 1346, in _next_data\n",
      "    return self._process_data(data)\n",
      "  File \"c:\\Users\\kbpra\\anaconda3\\envs\\lab\\lib\\site-packages\\torch\\utils\\data\\dataloader.py\", line 1372, in _process_data\n",
      "    data.reraise()\n",
      "  File \"c:\\Users\\kbpra\\anaconda3\\envs\\lab\\lib\\site-packages\\torch\\_utils.py\", line 722, in reraise\n",
      "    raise exception\n",
      "FileNotFoundError: Caught FileNotFoundError in DataLoader worker process 0.\n",
      "Original Traceback (most recent call last):\n",
      "  File \"c:\\Users\\kbpra\\anaconda3\\envs\\lab\\lib\\site-packages\\torch\\utils\\data\\_utils\\worker.py\", line 308, in _worker_loop\n",
      "    data = fetcher.fetch(index)\n",
      "  File \"c:\\Users\\kbpra\\anaconda3\\envs\\lab\\lib\\site-packages\\torch\\utils\\data\\_utils\\fetch.py\", line 51, in fetch\n",
      "    data = [self.dataset[idx] for idx in possibly_batched_index]\n",
      "  File \"c:\\Users\\kbpra\\anaconda3\\envs\\lab\\lib\\site-packages\\torch\\utils\\data\\_utils\\fetch.py\", line 51, in <listcomp>\n",
      "    data = [self.dataset[idx] for idx in possibly_batched_index]\n",
      "  File \"d:\\DL_Lab24\\Project\\DeeplabV3_Cityscapes\\datasets\\kitti_360.py\", line 104, in __getitem__\n",
      "    image = Image.open(self.image_paths[index]).convert('RGB')\n",
      "  File \"c:\\Users\\kbpra\\anaconda3\\envs\\lab\\lib\\site-packages\\PIL\\Image.py\", line 3247, in open\n",
      "    fp = builtins.open(filename, \"rb\")\n",
      "FileNotFoundError: [Errno 2] No such file or directory: 'datasets/data/KITTI-360/data_2d_raw/2013_05_28_drive_0000_sync/image_00/data_rect/0000003441.png'\n",
      "\n"
     ]
    },
    {
     "name": "stdout",
     "output_type": "stream",
     "text": [
      "^C\n"
     ]
    },
    {
     "name": "stderr",
     "output_type": "stream",
     "text": [
      "\n",
      "0it [00:00, ?it/s]\n",
      "0it [00:00, ?it/s]\n",
      "Traceback (most recent call last):\n",
      "  File \"test_v5.py\", line 194, in <module>\n",
      "    main()\n",
      "  File \"test_v5.py\", line 184, in main\n",
      "    process_dataset(opts.json_file2, 'kitti_360', opts, model, device, metrics, results)\n",
      "  File \"test_v5.py\", line 131, in process_dataset\n",
      "    val_score = validate(opts=opts, model=model, loader=val_loader, device=device, metrics=metrics, image_paths=val_image_paths, label_paths=val_ground_truth_paths)\n",
      "  File \"test_v5.py\", line 40, in validate\n",
      "    for i, (images, labels) in tqdm(enumerate(loader)):\n",
      "  File \"c:\\Users\\kbpra\\anaconda3\\envs\\lab\\lib\\site-packages\\tqdm\\std.py\", line 1181, in __iter__\n",
      "    for obj in iterable:\n",
      "  File \"c:\\Users\\kbpra\\anaconda3\\envs\\lab\\lib\\site-packages\\torch\\utils\\data\\dataloader.py\", line 631, in __next__\n",
      "    data = self._next_data()\n",
      "  File \"c:\\Users\\kbpra\\anaconda3\\envs\\lab\\lib\\site-packages\\torch\\utils\\data\\dataloader.py\", line 1346, in _next_data\n",
      "    return self._process_data(data)\n",
      "  File \"c:\\Users\\kbpra\\anaconda3\\envs\\lab\\lib\\site-packages\\torch\\utils\\data\\dataloader.py\", line 1372, in _process_data\n",
      "    data.reraise()\n",
      "  File \"c:\\Users\\kbpra\\anaconda3\\envs\\lab\\lib\\site-packages\\torch\\_utils.py\", line 722, in reraise\n",
      "    raise exception\n",
      "FileNotFoundError: Caught FileNotFoundError in DataLoader worker process 0.\n",
      "Original Traceback (most recent call last):\n",
      "  File \"c:\\Users\\kbpra\\anaconda3\\envs\\lab\\lib\\site-packages\\torch\\utils\\data\\_utils\\worker.py\", line 308, in _worker_loop\n",
      "    data = fetcher.fetch(index)\n",
      "  File \"c:\\Users\\kbpra\\anaconda3\\envs\\lab\\lib\\site-packages\\torch\\utils\\data\\_utils\\fetch.py\", line 51, in fetch\n",
      "    data = [self.dataset[idx] for idx in possibly_batched_index]\n",
      "  File \"c:\\Users\\kbpra\\anaconda3\\envs\\lab\\lib\\site-packages\\torch\\utils\\data\\_utils\\fetch.py\", line 51, in <listcomp>\n",
      "    data = [self.dataset[idx] for idx in possibly_batched_index]\n",
      "  File \"d:\\DL_Lab24\\Project\\DeeplabV3_Cityscapes\\datasets\\kitti_360.py\", line 104, in __getitem__\n",
      "    image = Image.open(self.image_paths[index]).convert('RGB')\n",
      "  File \"c:\\Users\\kbpra\\anaconda3\\envs\\lab\\lib\\site-packages\\PIL\\Image.py\", line 3247, in open\n",
      "    fp = builtins.open(filename, \"rb\")\n",
      "FileNotFoundError: [Errno 2] No such file or directory: 'datasets/data/KITTI-360/data_2d_raw/2013_05_28_drive_0000_sync/image_00/data_rect/0000000718.png'\n",
      "\n"
     ]
    },
    {
     "name": "stdout",
     "output_type": "stream",
     "text": [
      "Device: cuda\n",
      "setting up metrics\n",
      "Model: deeplabv3plus_resnet101, Output Stride: 16\n",
      "Model restored from ../checkpoints/latest_bucket_0_rand_deeplabv3plus_resnet101_kitti_os16.pth\n",
      "Number of validation images for kitti_360: 500\n",
      "Number of validation ground truth images for kitti_360: 500\n",
      "Device: cuda\n",
      "setting up metrics\n",
      "Model: deeplabv3plus_resnet101, Output Stride: 16\n",
      "Model restored from ../checkpoints/latest_bucket_0_rand_deeplabv3plus_resnet101_kitti_os16.pth\n",
      "Number of validation images for kitti_360: 500\n",
      "Number of validation ground truth images for kitti_360: 500\n"
     ]
    },
    {
     "name": "stderr",
     "output_type": "stream",
     "text": [
      "\n",
      "0it [00:00, ?it/s]\n",
      "0it [00:00, ?it/s]\n",
      "Traceback (most recent call last):\n",
      "  File \"test_v5.py\", line 194, in <module>\n",
      "    main()\n",
      "  File \"test_v5.py\", line 184, in main\n",
      "    process_dataset(opts.json_file2, 'kitti_360', opts, model, device, metrics, results)\n",
      "  File \"test_v5.py\", line 131, in process_dataset\n",
      "    val_score = validate(opts=opts, model=model, loader=val_loader, device=device, metrics=metrics, image_paths=val_image_paths, label_paths=val_ground_truth_paths)\n",
      "  File \"test_v5.py\", line 40, in validate\n",
      "    for i, (images, labels) in tqdm(enumerate(loader)):\n",
      "  File \"c:\\Users\\kbpra\\anaconda3\\envs\\lab\\lib\\site-packages\\tqdm\\std.py\", line 1181, in __iter__\n",
      "    for obj in iterable:\n",
      "  File \"c:\\Users\\kbpra\\anaconda3\\envs\\lab\\lib\\site-packages\\torch\\utils\\data\\dataloader.py\", line 631, in __next__\n",
      "    data = self._next_data()\n",
      "  File \"c:\\Users\\kbpra\\anaconda3\\envs\\lab\\lib\\site-packages\\torch\\utils\\data\\dataloader.py\", line 1346, in _next_data\n",
      "    return self._process_data(data)\n",
      "  File \"c:\\Users\\kbpra\\anaconda3\\envs\\lab\\lib\\site-packages\\torch\\utils\\data\\dataloader.py\", line 1372, in _process_data\n",
      "    data.reraise()\n",
      "  File \"c:\\Users\\kbpra\\anaconda3\\envs\\lab\\lib\\site-packages\\torch\\_utils.py\", line 722, in reraise\n",
      "    raise exception\n",
      "FileNotFoundError: Caught FileNotFoundError in DataLoader worker process 0.\n",
      "Original Traceback (most recent call last):\n",
      "  File \"c:\\Users\\kbpra\\anaconda3\\envs\\lab\\lib\\site-packages\\torch\\utils\\data\\_utils\\worker.py\", line 308, in _worker_loop\n",
      "    data = fetcher.fetch(index)\n",
      "  File \"c:\\Users\\kbpra\\anaconda3\\envs\\lab\\lib\\site-packages\\torch\\utils\\data\\_utils\\fetch.py\", line 51, in fetch\n",
      "    data = [self.dataset[idx] for idx in possibly_batched_index]\n",
      "  File \"c:\\Users\\kbpra\\anaconda3\\envs\\lab\\lib\\site-packages\\torch\\utils\\data\\_utils\\fetch.py\", line 51, in <listcomp>\n",
      "    data = [self.dataset[idx] for idx in possibly_batched_index]\n",
      "  File \"d:\\DL_Lab24\\Project\\DeeplabV3_Cityscapes\\datasets\\kitti_360.py\", line 104, in __getitem__\n",
      "    image = Image.open(self.image_paths[index]).convert('RGB')\n",
      "  File \"c:\\Users\\kbpra\\anaconda3\\envs\\lab\\lib\\site-packages\\PIL\\Image.py\", line 3247, in open\n",
      "    fp = builtins.open(filename, \"rb\")\n",
      "FileNotFoundError: [Errno 2] No such file or directory: 'datasets/data/KITTI-360/data_2d_raw/2013_05_28_drive_0000_sync/image_00/data_rect/0000000855.png'\n",
      "\n"
     ]
    },
    {
     "name": "stdout",
     "output_type": "stream",
     "text": [
      "Device: cuda\n",
      "setting up metrics\n",
      "Model: deeplabv3plus_resnet101, Output Stride: 16\n",
      "Model restored from ../checkpoints/latest_bucket_0_rand_deeplabv3plus_resnet101_kitti_os16.pth\n",
      "Number of validation images for kitti_360: 500\n",
      "Number of validation ground truth images for kitti_360: 500\n"
     ]
    },
    {
     "name": "stderr",
     "output_type": "stream",
     "text": [
      "\n",
      "0it [00:00, ?it/s]\n",
      "0it [00:00, ?it/s]\n",
      "Traceback (most recent call last):\n",
      "  File \"test_v5.py\", line 194, in <module>\n",
      "    main()\n",
      "  File \"test_v5.py\", line 184, in main\n",
      "    process_dataset(opts.json_file2, 'kitti_360', opts, model, device, metrics, results)\n",
      "  File \"test_v5.py\", line 131, in process_dataset\n",
      "    val_score = validate(opts=opts, model=model, loader=val_loader, device=device, metrics=metrics, image_paths=val_image_paths, label_paths=val_ground_truth_paths)\n",
      "  File \"test_v5.py\", line 40, in validate\n",
      "    for i, (images, labels) in tqdm(enumerate(loader)):\n",
      "  File \"c:\\Users\\kbpra\\anaconda3\\envs\\lab\\lib\\site-packages\\tqdm\\std.py\", line 1181, in __iter__\n",
      "    for obj in iterable:\n",
      "  File \"c:\\Users\\kbpra\\anaconda3\\envs\\lab\\lib\\site-packages\\torch\\utils\\data\\dataloader.py\", line 631, in __next__\n",
      "    data = self._next_data()\n",
      "  File \"c:\\Users\\kbpra\\anaconda3\\envs\\lab\\lib\\site-packages\\torch\\utils\\data\\dataloader.py\", line 1346, in _next_data\n",
      "    return self._process_data(data)\n",
      "  File \"c:\\Users\\kbpra\\anaconda3\\envs\\lab\\lib\\site-packages\\torch\\utils\\data\\dataloader.py\", line 1372, in _process_data\n",
      "    data.reraise()\n",
      "  File \"c:\\Users\\kbpra\\anaconda3\\envs\\lab\\lib\\site-packages\\torch\\_utils.py\", line 722, in reraise\n",
      "    raise exception\n",
      "FileNotFoundError: Caught FileNotFoundError in DataLoader worker process 0.\n",
      "Original Traceback (most recent call last):\n",
      "  File \"c:\\Users\\kbpra\\anaconda3\\envs\\lab\\lib\\site-packages\\torch\\utils\\data\\_utils\\worker.py\", line 308, in _worker_loop\n",
      "    data = fetcher.fetch(index)\n",
      "  File \"c:\\Users\\kbpra\\anaconda3\\envs\\lab\\lib\\site-packages\\torch\\utils\\data\\_utils\\fetch.py\", line 51, in fetch\n",
      "    data = [self.dataset[idx] for idx in possibly_batched_index]\n",
      "  File \"c:\\Users\\kbpra\\anaconda3\\envs\\lab\\lib\\site-packages\\torch\\utils\\data\\_utils\\fetch.py\", line 51, in <listcomp>\n",
      "    data = [self.dataset[idx] for idx in possibly_batched_index]\n",
      "  File \"d:\\DL_Lab24\\Project\\DeeplabV3_Cityscapes\\datasets\\kitti_360.py\", line 104, in __getitem__\n",
      "    image = Image.open(self.image_paths[index]).convert('RGB')\n",
      "  File \"c:\\Users\\kbpra\\anaconda3\\envs\\lab\\lib\\site-packages\\PIL\\Image.py\", line 3247, in open\n",
      "    fp = builtins.open(filename, \"rb\")\n",
      "FileNotFoundError: [Errno 2] No such file or directory: 'datasets/data/KITTI-360/data_2d_raw/2013_05_28_drive_0000_sync/image_00/data_rect/0000001257.png'\n",
      "\n"
     ]
    }
   ],
   "source": [
    " python ./tests/test_v5.py --model deeplabv3plus_resnet101 --gpu_id 0 --checkpoint_dir checkpoints/ --json_file1 ./assets/group1.json --json_file2 ./assets/group1.json --num_test 500\n",
    " python ./tests/test_v5.py --model deeplabv3plus_resnet101 --gpu_id 0 --checkpoint_dir checkpoints/ --json_file1 ./assets/group1.json --json_file2 ./assets/group2.json --num_test 500\n",
    " python ./tests/test_v5.py --model deeplabv3plus_resnet101 --gpu_id 0 --checkpoint_dir checkpoints/ --json_file1 ./assets/group1.json --json_file2 ./assets/group3.json --num_test 500\n",
    " python ./tests/test_v5.py --model deeplabv3plus_resnet101 --gpu_id 0 --checkpoint_dir checkpoints/ --json_file1 ./assets/group1.json --json_file2 ./assets/group4.json --num_test 500"
   ]
  },
  {
   "cell_type": "code",
   "execution_count": null,
   "metadata": {},
   "outputs": [],
   "source": []
  }
 ],
 "metadata": {
  "kernelspec": {
   "display_name": "lab",
   "language": "python",
   "name": "python3"
  },
  "language_info": {
   "codemirror_mode": {
    "name": "ipython",
    "version": 3
   },
   "file_extension": ".py",
   "mimetype": "text/x-python",
   "name": "python",
   "nbconvert_exporter": "python",
   "pygments_lexer": "ipython3",
   "version": "3.8.19"
  }
 },
 "nbformat": 4,
 "nbformat_minor": 2
}
