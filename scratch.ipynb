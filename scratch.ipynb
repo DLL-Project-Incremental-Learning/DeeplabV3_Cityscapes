{
 "cells": [
  {
   "cell_type": "code",
   "execution_count": 8,
   "metadata": {},
   "outputs": [],
   "source": [
    "json = \"ranked_2k.json\"\n",
    "layer = \"l2\"\n",
    "full = False\n",
    "kd = True\n",
    "pixel = True\n"
   ]
  },
  {
   "cell_type": "code",
   "execution_count": 13,
   "metadata": {},
   "outputs": [
    {
     "name": "stdout",
     "output_type": "stream",
     "text": [
      "ranked_2k_L2_BBN_kd_pixel\n"
     ]
    }
   ],
   "source": [
    "checkpoint_name =  json.split(\".\")[0] + \"_\" + layer.upper()\n",
    "if full:\n",
    "    checkpoint_name =  checkpoint_name  + \"_\" + \"full\"\n",
    "else:\n",
    "    checkpoint_name =  checkpoint_name  + \"_\" + \"BBN\"\n",
    "\n",
    "if kd:\n",
    "    checkpoint_name = checkpoint_name + \"_kd\"\n",
    "\n",
    "if pixel:\n",
    "    checkpoint_name = checkpoint_name + \"_pixel\"\n",
    "\n",
    "print(checkpoint_name) "
   ]
  },
  {
   "cell_type": "code",
   "execution_count": 19,
   "metadata": {},
   "outputs": [
    {
     "name": "stdout",
     "output_type": "stream",
     "text": [
      "ranked_2k_L4_BBN_pixel\n"
     ]
    }
   ],
   "source": [
    "# Parameters\n",
    "json = \"ranked_2k.json\"\n",
    "layer = \"l4\"\n",
    "full = False\n",
    "kd = False\n",
    "pixel = True\n",
    "\n",
    "# Creating checkpoint name\n",
    "checkpoint_name = f\"{json.split('.')[0]}_{layer.upper()}_{'full' if full else 'BBN'}\"\n",
    "\n",
    "# Adding optional suffixes\n",
    "if kd:\n",
    "    checkpoint_name += \"_KD\"\n",
    "\n",
    "if pixel:\n",
    "    checkpoint_name += \"_pixel\"\n",
    "\n",
    "print(checkpoint_name)\n"
   ]
  },
  {
   "cell_type": "code",
   "execution_count": 21,
   "metadata": {},
   "outputs": [
    {
     "name": "stdout",
     "output_type": "stream",
     "text": [
      "4\n"
     ]
    }
   ],
   "source": [
    "layer_num = layer[1]\n",
    "print(layer_num)"
   ]
  },
  {
   "cell_type": "code",
   "execution_count": null,
   "metadata": {},
   "outputs": [],
   "source": []
  }
 ],
 "metadata": {
  "kernelspec": {
   "display_name": "lab",
   "language": "python",
   "name": "python3"
  },
  "language_info": {
   "codemirror_mode": {
    "name": "ipython",
    "version": 3
   },
   "file_extension": ".py",
   "mimetype": "text/x-python",
   "name": "python",
   "nbconvert_exporter": "python",
   "pygments_lexer": "ipython3",
   "version": "3.8.19"
  }
 },
 "nbformat": 4,
 "nbformat_minor": 2
}
