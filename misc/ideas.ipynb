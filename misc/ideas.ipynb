{
 "cells": [
  {
   "cell_type": "code",
   "execution_count": 2,
   "metadata": {},
   "outputs": [
    {
     "name": "stdout",
     "output_type": "stream",
     "text": [
      "[255 255 255 255 255 255 255   0   1 255 255   2   3   4 255 255 255   5\n",
      " 255   6   7   8   9  10  11  12  13  14  15 255 255  16  17  18 255   2\n",
      "   4 255   5 255 255 255 255 255 255 255]\n"
     ]
    }
   ],
   "source": [
    "from collections import namedtuple\n",
    "import numpy as np\n",
    "CityscapesClass = namedtuple('CityscapesClass', ['name', 'id', 'train_id', 'category', 'category_id',\n",
    "                                                    'has_instances', 'ignore_in_eval', 'color'])\n",
    "classes = [\n",
    "    CityscapesClass('unlabeled',            0, 255, 'void', 0, False, True, (0, 0, 0)),\n",
    "    CityscapesClass('ego vehicle',          1, 255, 'void', 0, False, True, (0, 0, 0)),\n",
    "    CityscapesClass('rectification border', 2, 255, 'void', 0, False, True, (0, 0, 0)),\n",
    "    CityscapesClass('out of roi',           3, 255, 'void', 0, False, True, (0, 0, 0)),\n",
    "    CityscapesClass('static',               4, 255, 'void', 0, False, True, (0, 0, 0)),\n",
    "    CityscapesClass('dynamic',              5, 255, 'void', 0, False, True, (111, 74, 0)),\n",
    "    CityscapesClass('ground',               6, 255, 'void', 0, False, True, (81, 0, 81)),\n",
    "    CityscapesClass('road',                 7, 0, 'flat', 1, False, False, (128, 64, 128)),\n",
    "    CityscapesClass('sidewalk',             8, 1, 'flat', 1, False, False, (244, 35, 232)),\n",
    "    CityscapesClass('parking',              9, 255, 'flat', 1, False, True, (250, 170, 160)),\n",
    "    CityscapesClass('rail track',           10, 255, 'flat', 1, False, True, (230, 150, 140)),\n",
    "    CityscapesClass('building',             11, 2, 'construction', 2, False, False, (70, 70, 70)),\n",
    "    CityscapesClass('wall',                 12, 3, 'construction', 2, False, False, (102, 102, 156)),\n",
    "    CityscapesClass('fence',                13, 4, 'construction', 2, False, False, (190, 153, 153)),\n",
    "    CityscapesClass('guard rail',           14, 255, 'construction', 2, False, True, (180, 165, 180)),\n",
    "    CityscapesClass('bridge',               15, 255, 'construction', 2, False, True, (150, 100, 100)),\n",
    "    CityscapesClass('tunnel',               16, 255, 'construction', 2, False, True, (150, 120, 90)),\n",
    "    CityscapesClass('pole',                 17, 5, 'object', 3, False, False, (153, 153, 153)),\n",
    "    CityscapesClass('polegroup',            18, 255, 'object', 3, False, True, (153, 153, 153)),\n",
    "    CityscapesClass('traffic light',        19, 6, 'object', 3, False, False, (250, 170, 30)),\n",
    "    CityscapesClass('traffic sign',         20, 7, 'object', 3, False, False, (220, 220, 0)),\n",
    "    CityscapesClass('vegetation',           21, 8, 'nature', 4, False, False, (107, 142, 35)),\n",
    "    CityscapesClass('terrain',              22, 9, 'nature', 4, False, False, (152, 251, 152)),\n",
    "    CityscapesClass('sky',                  23, 10, 'sky', 5, False, False, (70, 130, 180)),\n",
    "    CityscapesClass('person',               24, 11, 'human', 6, True, False, (220, 20, 60)),\n",
    "    CityscapesClass('rider',                25, 12, 'human', 6, True, False, (255, 0, 0)),\n",
    "    CityscapesClass('car',                  26, 13, 'vehicle', 7, True, False, (0, 0, 142)),\n",
    "    CityscapesClass('truck',                27, 14, 'vehicle', 7, True, False, (0, 0, 70)),\n",
    "    CityscapesClass('bus',                  28, 15, 'vehicle', 7, True, False, (0, 60, 100)),\n",
    "    CityscapesClass('caravan',              29, 255, 'vehicle', 7, True, True, (0, 0, 90)),\n",
    "    CityscapesClass('trailer',              30, 255, 'vehicle', 7, True, True, (0, 0, 110)),\n",
    "    CityscapesClass('train',                31, 16, 'vehicle', 7, True, False, (0, 80, 100)),\n",
    "    CityscapesClass('motorcycle',           32, 17, 'vehicle', 7, True, False, (0, 0, 230)),\n",
    "    CityscapesClass('bicycle',              33, 18, 'vehicle', 7, True, False, (119, 11, 32)),\n",
    "    CityscapesClass('license plate',        -1, 255, 'vehicle', 7, False, True, (0, 0, 142)),\n",
    "\n",
    "    CityscapesClass('garage',               34, 2, 'construction', 2, True, True, (64, 128, 128)),\n",
    "    CityscapesClass('gate',                 35, 4, 'construction', 2, False, True, (190, 153, 153)),\n",
    "    CityscapesClass('stop',                 36, 255, 'construction', 2, True, True, (150, 120, 90)),\n",
    "    CityscapesClass('smallpole',            37, 5, 'object', 3, True, True, (153,153,153)),\n",
    "    CityscapesClass('lamp',                 38, 255, 'object', 3, True, True, (0, 64, 64)),\n",
    "    CityscapesClass('trash bin',            39, 255, 'object', 3, True, True, (0, 128, 192)),\n",
    "    CityscapesClass('vending machine',      40, 255, 'object', 3, True, True, (128, 64,  0)),\n",
    "    CityscapesClass('box',                  41, 255, 'object', 3, True, True, (64, 64, 128)),\n",
    "    CityscapesClass('unknown construction', 42, 255, 'void', 0, False, True, (102, 0, 0)),\n",
    "    CityscapesClass('unknown vehicle',      43, 255, 'void', 0, False, True, (51, 0, 51)),\n",
    "    CityscapesClass('unknown object',       44, 255, 'void', 0, False, True, (32, 32, 32)),\n",
    "\n",
    "]\n",
    "\n",
    "train_id_to_color = [c.color for c in classes if (c.train_id != -1 and c.train_id != 255)]\n",
    "train_id_to_color.append([0, 0, 0])\n",
    "train_id_to_color = np.array(train_id_to_color)\n",
    "id_to_train_id = np.array([c.train_id for c in classes])\n",
    "print(id_to_train_id)"
   ]
  },
  {
   "cell_type": "code",
   "execution_count": 17,
   "metadata": {},
   "outputs": [
    {
     "name": "stdout",
     "output_type": "stream",
     "text": [
      "gt_kitti.shape:(376, 1408, 3)\n",
      "Value 6: train_id 255\n",
      "Value 7: train_id 0\n",
      "Value 8: train_id 1\n",
      "Value 9: train_id 255\n",
      "Value 11: train_id 2\n",
      "Value 13: train_id 4\n",
      "Value 17: train_id 5\n",
      "Value 19: train_id 6\n",
      "Value 20: train_id 7\n",
      "Value 21: train_id 8\n",
      "Value 22: train_id 9\n",
      "Value 23: train_id 10\n",
      "Value 24: train_id 11\n",
      "Value 26: train_id 13\n",
      "Value 27: train_id 14\n",
      "Value 32: train_id 17\n",
      "Value 36: train_id 255\n",
      "Value 37: train_id 255\n",
      "Value 39: train_id 255\n",
      "Value 44: train_id 255\n"
     ]
    }
   ],
   "source": [
    "import cv2\n",
    "import numpy as np\n",
    "import matplotlib.pyplot as plt\n",
    "\n",
    "\n",
    "gt_kitti = cv2.imread(\"../datasets/data/KITTI-360/data_2d_semantics/train/2013_05_28_drive_0010_sync/image_00/semantic/0000003000.png\")\n",
    "print(f\"gt_kitti.shape:{gt_kitti.shape}\")\n",
    "unique_values, counts = np.unique(gt_kitti, return_counts=True)\n",
    "for value, count in zip(unique_values, counts):\n",
    "    print(f\"Value {value}: train_id {id_to_train_id[value]}\")"
   ]
  },
  {
   "cell_type": "code",
   "execution_count": null,
   "metadata": {},
   "outputs": [],
   "source": [
    "gt_kitti.shape:(376, 1408, 3)\n",
    "Value 6: train_id 255\n",
    "Value 7: train_id 0\n",
    "Value 8: train_id 1\n",
    "Value 9: train_id 255\n",
    "Value 11: train_id 2\n",
    "Value 13: train_id 4\n",
    "Value 17: train_id 5\n",
    "Value 20: train_id 7\n",
    "Value 21: train_id 8\n",
    "Value 22: train_id 9\n",
    "Value 23: train_id 10\n",
    "Value 24: train_id 11\n",
    "Value 25: train_id 12\n",
    "Value 26: train_id 13\n",
    "Value 27: train_id 14\n",
    "Value 30: train_id 255\n",
    "Value 33: train_id 18\n",
    "Value 36: train_id 4\n",
    "Value 37: train_id 255\n",
    "Value 38: train_id 5\n",
    "Value 41: train_id 255\n",
    "Value 44: train_id 255"
   ]
  },
  {
   "cell_type": "code",
   "execution_count": 31,
   "metadata": {},
   "outputs": [
    {
     "name": "stdout",
     "output_type": "stream",
     "text": [
      "[255 255 255 255 255 255 255   0   1 255 255   2   3   4 255 255 255   5\n",
      " 255   6   7   8   9  10  11  12  13  14  15 255 255  16  17  18   2   4\n",
      " 255   5 255 255 255 255 255 255 255 255]\n"
     ]
    },
    {
     "name": "stderr",
     "output_type": "stream",
     "text": [
      "Processing images: 100%|██████████| 500/500 [00:11<00:00, 42.79it/s]"
     ]
    },
    {
     "name": "stdout",
     "output_type": "stream",
     "text": [
      "[(6, 255), (7, 0), (8, 1), (9, 255), (10, 255), (11, 2), (12, 3), (13, 4), (17, 5), (19, 6), (20, 7), (21, 8), (22, 9), (23, 10), (24, 11), (25, 12), (26, 13), (27, 14), (28, 15), (29, 255), (30, 255), (32, 17), (33, 18), (34, 2), (35, 4), (36, 255), (37, 5), (38, 255), (39, 255), (40, 255), (41, 255), (42, 255), (44, 255)]\n"
     ]
    },
    {
     "name": "stderr",
     "output_type": "stream",
     "text": [
      "\n"
     ]
    }
   ],
   "source": [
    "# Import necessary libraries\n",
    "import cv2\n",
    "import numpy as np\n",
    "import os\n",
    "from tqdm import tqdm\n",
    "from collections import namedtuple\n",
    "import random\n",
    "\n",
    "CityscapesClass = namedtuple('CityscapesClass', ['name', 'id', 'train_id', 'category', 'category_id',\n",
    "                                                    'has_instances', 'ignore_in_eval', 'color'])\n",
    "classes = [\n",
    "    CityscapesClass('unlabeled',            0, 255, 'void', 0, False, True, (0, 0, 0)),\n",
    "    CityscapesClass('ego vehicle',          1, 255, 'void', 0, False, True, (0, 0, 0)),\n",
    "    CityscapesClass('rectification border', 2, 255, 'void', 0, False, True, (0, 0, 0)),\n",
    "    CityscapesClass('out of roi',           3, 255, 'void', 0, False, True, (0, 0, 0)),\n",
    "    CityscapesClass('static',               4, 255, 'void', 0, False, True, (0, 0, 0)),\n",
    "    CityscapesClass('dynamic',              5, 255, 'void', 0, False, True, (111, 74, 0)),\n",
    "    CityscapesClass('ground',               6, 255, 'void', 0, False, True, (81, 0, 81)),\n",
    "    CityscapesClass('road',                 7, 0, 'flat', 1, False, False, (128, 64, 128)),\n",
    "    CityscapesClass('sidewalk',             8, 1, 'flat', 1, False, False, (244, 35, 232)),\n",
    "    CityscapesClass('parking',              9, 255, 'flat', 1, False, True, (250, 170, 160)),\n",
    "    CityscapesClass('rail track',           10, 255, 'flat', 1, False, True, (230, 150, 140)),\n",
    "    CityscapesClass('building',             11, 2, 'construction', 2, False, False, (70, 70, 70)),\n",
    "    CityscapesClass('wall',                 12, 3, 'construction', 2, False, False, (102, 102, 156)),\n",
    "    CityscapesClass('fence',                13, 4, 'construction', 2, False, False, (190, 153, 153)),\n",
    "    CityscapesClass('guard rail',           14, 255, 'construction', 2, False, True, (180, 165, 180)),\n",
    "    CityscapesClass('bridge',               15, 255, 'construction', 2, False, True, (150, 100, 100)),\n",
    "    CityscapesClass('tunnel',               16, 255, 'construction', 2, False, True, (150, 120, 90)),\n",
    "    CityscapesClass('pole',                 17, 5, 'object', 3, False, False, (153, 153, 153)),\n",
    "    CityscapesClass('polegroup',            18, 255, 'object', 3, False, True, (153, 153, 153)),\n",
    "    CityscapesClass('traffic light',        19, 6, 'object', 3, False, False, (250, 170, 30)),\n",
    "    CityscapesClass('traffic sign',         20, 7, 'object', 3, False, False, (220, 220, 0)),\n",
    "    CityscapesClass('vegetation',           21, 8, 'nature', 4, False, False, (107, 142, 35)),\n",
    "    CityscapesClass('terrain',              22, 9, 'nature', 4, False, False, (152, 251, 152)),\n",
    "    CityscapesClass('sky',                  23, 10, 'sky', 5, False, False, (70, 130, 180)),\n",
    "    CityscapesClass('person',               24, 11, 'human', 6, True, False, (220, 20, 60)),\n",
    "    CityscapesClass('rider',                25, 12, 'human', 6, True, False, (255, 0, 0)),\n",
    "    CityscapesClass('car',                  26, 13, 'vehicle', 7, True, False, (0, 0, 142)),\n",
    "    CityscapesClass('truck',                27, 14, 'vehicle', 7, True, False, (0, 0, 70)),\n",
    "    CityscapesClass('bus',                  28, 15, 'vehicle', 7, True, False, (0, 60, 100)),\n",
    "    CityscapesClass('caravan',              29, 255, 'vehicle', 7, True, True, (0, 0, 90)),\n",
    "    CityscapesClass('trailer',              30, 255, 'vehicle', 7, True, True, (0, 0, 110)),\n",
    "    CityscapesClass('train',                31, 16, 'vehicle', 7, True, False, (0, 80, 100)),\n",
    "    CityscapesClass('motorcycle',           32, 17, 'vehicle', 7, True, False, (0, 0, 230)),\n",
    "    CityscapesClass('bicycle',              33, 18, 'vehicle', 7, True, False, (119, 11, 32)),\n",
    "\n",
    "    CityscapesClass('garage',               34, 2, 'construction', 2, True, True, (64, 128, 128)),\n",
    "    CityscapesClass('gate',                 35, 4, 'construction', 2, False, True, (190, 153, 153)),\n",
    "    CityscapesClass('stop',                 36, 255, 'construction', 2, True, True, (150, 120, 90)),\n",
    "    CityscapesClass('smallpole',            37, 5, 'object', 3, True, True, (153,153,153)),\n",
    "    CityscapesClass('lamp',                 38, 255, 'object', 3, True, True, (0, 64, 64)),\n",
    "    CityscapesClass('trash bin',            39, 255, 'object', 3, True, True, (0, 128, 192)),\n",
    "    CityscapesClass('vending machine',      40, 255, 'object', 3, True, True, (128, 64,  0)),\n",
    "    CityscapesClass('box',                  41, 255, 'object', 3, True, True, (64, 64, 128)),\n",
    "    CityscapesClass('unknown construction', 42, 255, 'void', 0, False, True, (102, 0, 0)),\n",
    "    CityscapesClass('unknown vehicle',      43, 255, 'void', 0, False, True, (51, 0, 51)),\n",
    "    CityscapesClass('unknown object',       44, 255, 'void', 0, False, True, (32, 32, 32)),\n",
    "    CityscapesClass('license plate',        -1, 255, 'vehicle', 7, False, True, (0, 0, 142)),\n",
    "\n",
    "]\n",
    "\n",
    "# Create id_to_train_id mapping\n",
    "\n",
    "id_to_train_id = np.array([c.train_id for c in classes])\n",
    "print(id_to_train_id)\n",
    "\n",
    "def get_id_train_id_pairs(image_dir, num_images=1000):\n",
    "    id_train_id_pairs = set()\n",
    "    all_image_paths = []\n",
    "    \n",
    "    # Collect all image paths\n",
    "    for root, _, files in os.walk(image_dir):\n",
    "        for file in files:\n",
    "            if file.endswith('.png'):\n",
    "                all_image_paths.append(os.path.join(root, file))\n",
    "    \n",
    "    # Randomly select num_images\n",
    "    selected_images = random.sample(all_image_paths, min(num_images, len(all_image_paths)))\n",
    "    \n",
    "    # Process selected images\n",
    "    for image_path in tqdm(selected_images, desc=\"Processing images\"):\n",
    "        # Read the image\n",
    "        gt_kitti = cv2.imread(image_path)\n",
    "\n",
    "        #print(f\"gt_kitti.shape:{gt_kitti.shape}\")\n",
    "        unique_values, counts = np.unique(gt_kitti, return_counts=True)\n",
    "        for value, count in zip(unique_values, counts):\n",
    "            train_id = id_to_train_id[value]\n",
    "            #print(f\"Value {value}: train_id {id_to_train_id[value]}\")\n",
    "            id_train_id_pairs.add((value, train_id))\n",
    "    \n",
    "    return id_train_id_pairs\n",
    "\n",
    "# Define the root directory of your dataset\n",
    "dataset_root = \"../datasets/data/KITTI-360/data_2d_semantics/train/2013_05_28_drive_0000_sync/image_00/semantic\"\n",
    "# print unique sets from id_train_id_pairs\n",
    "\n",
    "# Get unique (ID, train_ID) pairs from 1000 random images\n",
    "id_train_id_pairs_output = get_id_train_id_pairs(dataset_root, num_images=500)\n",
    "# print(id_train_id_pairs_output)\\\n",
    "\n",
    "# Sort the pairs by ID\n",
    "sorted_pairs = sorted(id_train_id_pairs_output, key=lambda x: x[0])\n",
    "\n",
    "print(sorted_pairs)\n",
    "\n",
    "# Print the sorted results\n",
    "#print(\"Sorted unique (ID, train_ID) pairs:\")\n",
    "#for id_value, train_id in sorted_pairs:\n",
    "    # class_name = next((c.name for c in classes if c.id == id_value), \"Unknown\")\n",
    "#    print(f\"ID {id_value}: train_ID {train_id}\")\n",
    "\n",
    "#print(f\"\\nTotal unique pairs: {len(sorted_pairs)}\")\n",
    "\n",
    "# Print the id_to_train_id array\n",
    "#print(\"\\nid_to_train_id array:\")\n",
    "#print(id_to_train_id)"
   ]
  },
  {
   "cell_type": "code",
   "execution_count": 1,
   "metadata": {},
   "outputs": [
    {
     "name": "stdout",
     "output_type": "stream",
     "text": [
      "Current directory path: /media/henry/Data/msc/lab/proj/vdnas_scipts\n"
     ]
    }
   ],
   "source": [
    "import os\n",
    "\n",
    "# Get the current directory path\n",
    "current_directory = os.getcwd()\n",
    "\n",
    "# Print the current directory path\n",
    "print(\"Current directory path:\", current_directory)"
   ]
  },
  {
   "cell_type": "code",
   "execution_count": 15,
   "metadata": {},
   "outputs": [
    {
     "name": "stderr",
     "output_type": "stream",
     "text": [
      "100%|██████████| 6/6 [00:00<00:00, 28630.06it/s]"
     ]
    },
    {
     "name": "stdout",
     "output_type": "stream",
     "text": [
      "idx:[1]\n",
      "idx:[2]\n",
      "idx:[3]\n",
      "idx:[4]\n",
      "idx:[5]\n",
      "idx:[6]\n"
     ]
    },
    {
     "name": "stderr",
     "output_type": "stream",
     "text": [
      "\n"
     ]
    }
   ],
   "source": [
    "from tqdm import tqdm\n",
    "import numpy as np\n",
    "train_buckets = [[1],[2],[3],[4],[5],[6]]\n",
    "val_buckets = [[\"a\"],[\"b\"],[\"c\"],[\"d\"],[\"e\"],[\"f\"]]\n",
    "# idx = 4\n",
    "# for idx, (train_bckt, val_bckt) in enumerate(zip(train_buckets, val_buckets), start=idx):\n",
    "#     print(f\"idx:{idx}, train_bckt:{train_bckt}, val_bckt:{val_bckt}\")\n",
    "\n",
    "for idx in tqdm(train_buckets):\n",
    "    print(f\"idx:{idx}\")"
   ]
  },
  {
   "cell_type": "code",
   "execution_count": 13,
   "metadata": {},
   "outputs": [
    {
     "data": {
      "text/plain": [
       "False"
      ]
     },
     "execution_count": 13,
     "metadata": {},
     "output_type": "execute_result"
    }
   ],
   "source": [
    "import os\n",
    "\n",
    "path = f\"wandbl\"\n",
    "\n",
    "os.path.exists(path)"
   ]
  },
  {
   "cell_type": "code",
   "execution_count": 17,
   "metadata": {},
   "outputs": [
    {
     "ename": "ValueError",
     "evalue": "Value error raised",
     "output_type": "error",
     "traceback": [
      "\u001b[0;31m---------------------------------------------------------------------------\u001b[0m",
      "\u001b[0;31mValueError\u001b[0m                                Traceback (most recent call last)",
      "Cell \u001b[0;32mIn[17], line 1\u001b[0m\n\u001b[0;32m----> 1\u001b[0m \u001b[38;5;28;01mraise\u001b[39;00m \u001b[38;5;167;01mValueError\u001b[39;00m(\u001b[38;5;124mf\u001b[39m\u001b[38;5;124m\"\u001b[39m\u001b[38;5;124mValue error raised\u001b[39m\u001b[38;5;124m\"\u001b[39m)\n\u001b[1;32m      2\u001b[0m \u001b[38;5;28mprint\u001b[39m(\u001b[38;5;124m\"\u001b[39m\u001b[38;5;124mThis is after the error\u001b[39m\u001b[38;5;124m\"\u001b[39m)\n",
      "\u001b[0;31mValueError\u001b[0m: Value error raised"
     ]
    }
   ],
   "source": [
    "print(\"this is before the error\")\n",
    "raise ValueError(f\"Value error raised\")\n",
    "print(\"This is after the error\")\n"
   ]
  }
 ],
 "metadata": {
  "kernelspec": {
   "display_name": "proj-lab",
   "language": "python",
   "name": "python3"
  },
  "language_info": {
   "codemirror_mode": {
    "name": "ipython",
    "version": 3
   },
   "file_extension": ".py",
   "mimetype": "text/x-python",
   "name": "python",
   "nbconvert_exporter": "python",
   "pygments_lexer": "ipython3",
   "version": "3.9.19"
  }
 },
 "nbformat": 4,
 "nbformat_minor": 2
}
