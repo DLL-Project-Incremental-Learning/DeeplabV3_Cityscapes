{
 "cells": [
  {
   "cell_type": "code",
   "execution_count": 16,
   "metadata": {},
   "outputs": [],
   "source": [
    "from dataloaders import DataProcessor, KITTI360Dataset, DatasetLoader\n"
   ]
  },
  {
   "cell_type": "code",
   "execution_count": 17,
   "metadata": {},
   "outputs": [],
   "source": [
    "num_buckets = 6\n",
    "bucket_idx = 1\n",
    "processor = DataProcessor('results.json', num_buckets=num_buckets, train_ratio=0.8)\n"
   ]
  },
  {
   "cell_type": "code",
   "execution_count": 18,
   "metadata": {},
   "outputs": [
    {
     "name": "stdout",
     "output_type": "stream",
     "text": [
      "\n",
      "\n",
      "Number of images: 2040\n",
      "Image files: ['datasets/data/KITTI-360/data_2d_raw/2013_05_28_drive_0000_sync/image_00/data_rect/0000005340.png', 'datasets/data/KITTI-360/data_2d_raw/2013_05_28_drive_0000_sync/image_00/data_rect/0000004275.png', 'datasets/data/KITTI-360/data_2d_raw/2013_05_28_drive_0007_sync/image_00/data_rect/0000003020.png', 'datasets/data/KITTI-360/data_2d_raw/2013_05_28_drive_0000_sync/image_00/data_rect/0000004595.png', 'datasets/data/KITTI-360/data_2d_raw/2013_05_28_drive_0009_sync/image_00/data_rect/0000006185.png']\n"
     ]
    }
   ],
   "source": [
    "train_buckets, val_buckets = processor.asc_buckets()\n",
    "image_files = [d['image'] for d in train_buckets[bucket_idx]]\n",
    "print(\"\\n\\nNumber of images: %d\" % len(image_files))\n",
    "print(\"Image files: %s\" % image_files[:5])"
   ]
  },
  {
   "cell_type": "code",
   "execution_count": 19,
   "metadata": {},
   "outputs": [
    {
     "name": "stdout",
     "output_type": "stream",
     "text": [
      "datasets/data/KITTI-360/data_2d_raw/2013_05_28_drive_0009_sync/image_00/data_rect/0000002935.png\n"
     ]
    }
   ],
   "source": [
    "val_buckets_0  = [d['image'] for d in val_buckets[0]]\n",
    "print(val_buckets_0[:5][0])"
   ]
  },
  {
   "cell_type": "code",
   "execution_count": 20,
   "metadata": {},
   "outputs": [
    {
     "name": "stdout",
     "output_type": "stream",
     "text": [
      "\n",
      "\n",
      "Number of images: 2040\n",
      "Image files: ['datasets/data/KITTI-360/data_2d_raw/2013_05_28_drive_0002_sync/image_00/data_rect/0000013091.png', 'datasets/data/KITTI-360/data_2d_raw/2013_05_28_drive_0005_sync/image_00/data_rect/0000003240.png', 'datasets/data/KITTI-360/data_2d_raw/2013_05_28_drive_0003_sync/image_00/data_rect/0000000295.png', 'datasets/data/KITTI-360/data_2d_raw/2013_05_28_drive_0004_sync/image_00/data_rect/0000004505.png', 'datasets/data/KITTI-360/data_2d_raw/2013_05_28_drive_0004_sync/image_00/data_rect/0000006010.png']\n"
     ]
    }
   ],
   "source": [
    "train_buckets, val_buckets = processor.desc_buckets()\n",
    "image_files = [d['image'] for d in train_buckets[bucket_idx]]\n",
    "print(\"\\n\\nNumber of images: %d\" % len(image_files))\n",
    "print(\"Image files: %s\" % image_files[:5])"
   ]
  },
  {
   "cell_type": "code",
   "execution_count": 21,
   "metadata": {},
   "outputs": [
    {
     "name": "stdout",
     "output_type": "stream",
     "text": [
      "\n",
      "\n",
      "Number of images: 2040\n",
      "Image files: ['datasets/data/KITTI-360/data_2d_raw/2013_05_28_drive_0000_sync/image_00/data_rect/0000011305.png', 'datasets/data/KITTI-360/data_2d_raw/2013_05_28_drive_0000_sync/image_00/data_rect/0000002035.png', 'datasets/data/KITTI-360/data_2d_raw/2013_05_28_drive_0002_sync/image_00/data_rect/0000011081.png', 'datasets/data/KITTI-360/data_2d_raw/2013_05_28_drive_0000_sync/image_00/data_rect/0000010540.png', 'datasets/data/KITTI-360/data_2d_raw/2013_05_28_drive_0002_sync/image_00/data_rect/0000006836.png']\n"
     ]
    }
   ],
   "source": [
    "train_buckets, val_buckets = processor.random_buckets()\n",
    "image_files = [d['image'] for d in train_buckets[bucket_idx]]\n",
    "print(\"\\n\\nNumber of images: %d\" % len(image_files))\n",
    "print(\"Image files: %s\" % image_files[:5])"
   ]
  },
  {
   "cell_type": "code",
   "execution_count": null,
   "metadata": {},
   "outputs": [],
   "source": []
  }
 ],
 "metadata": {
  "kernelspec": {
   "display_name": "lab",
   "language": "python",
   "name": "python3"
  },
  "language_info": {
   "codemirror_mode": {
    "name": "ipython",
    "version": 3
   },
   "file_extension": ".py",
   "mimetype": "text/x-python",
   "name": "python",
   "nbconvert_exporter": "python",
   "pygments_lexer": "ipython3",
   "version": "3.8.19"
  }
 },
 "nbformat": 4,
 "nbformat_minor": 2
}
