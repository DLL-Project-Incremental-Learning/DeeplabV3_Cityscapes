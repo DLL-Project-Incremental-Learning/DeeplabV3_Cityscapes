{
 "cells": [
  {
   "cell_type": "code",
   "execution_count": 15,
   "metadata": {},
   "outputs": [],
   "source": [
    "from tqdm import tqdm\n",
    "import network\n",
    "import utils\n",
    "import os\n",
    "import random\n",
    "import argparse\n",
    "import numpy as np\n",
    "import json\n",
    "\n",
    "from torch.utils import data\n",
    "from datasets import Cityscapes\n",
    "from utils import ext_transforms as et\n",
    "from metrics import StreamSegMetrics\n",
    "\n",
    "import torch\n",
    "import torch.nn as nn\n",
    "import wandb\n",
    "\n",
    "from PIL import Image\n",
    "import matplotlib\n",
    "import matplotlib.pyplot as plt\n",
    "\n",
    "from torchvision import transforms\n",
    "# from torchvision.models.segmentation import deeplabv3_resnet50\n",
    "from torch.utils.data import DataLoader, Dataset\n",
    "from glob import glob\n",
    "from collections import namedtuple\n",
    "from dataloaders import DataProcessor, KITTI360Dataset, DatasetLoader\n",
    "from weaklabelgenerator import labelgenerator\n",
    "import network\n"
   ]
  },
  {
   "cell_type": "code",
   "execution_count": 20,
   "metadata": {},
   "outputs": [
    {
     "name": "stdout",
     "output_type": "stream",
     "text": [
      "datasets/data/KITTI-360/data_2d_raw/2013_05_28_drive_0000_sync/image_00/data_rect/\n"
     ]
    }
   ],
   "source": [
    "datapath = 'datasets/data/KITTI-360/data_2d_raw/2013_05_28_drive_0000_sync/image_00/data_rect/'\n",
    "datapath = datapath.replace('\\\\', '/')\n",
    "print(datapath)\n",
    "# datapath = 'datasets/data/KITTI-360/data_2d_raw/2013_05_28_drive_0000_sync/image_00/data_rect/'"
   ]
  },
  {
   "cell_type": "code",
   "execution_count": 21,
   "metadata": {},
   "outputs": [
    {
     "name": "stdout",
     "output_type": "stream",
     "text": [
      "11518\n"
     ]
    }
   ],
   "source": [
    "files = os.listdir(datapath)\n",
    "print(len(files))"
   ]
  },
  {
   "cell_type": "code",
   "execution_count": 12,
   "metadata": {},
   "outputs": [
    {
     "name": "stdout",
     "output_type": "stream",
     "text": [
      "2000\n"
     ]
    },
    {
     "data": {
      "text/plain": [
       "['0000010263.png',\n",
       " '0000005307.png',\n",
       " '0000003782.png',\n",
       " '0000006304.png',\n",
       " '0000009918.png']"
      ]
     },
     "execution_count": 12,
     "metadata": {},
     "output_type": "execute_result"
    }
   ],
   "source": [
    "\n"
   ]
  },
  {
   "cell_type": "code",
   "execution_count": 14,
   "metadata": {},
   "outputs": [
    {
     "name": "stdout",
     "output_type": "stream",
     "text": [
      "2304\n",
      "['0000000000.png', '0000000005.png', '0000000010.png', '0000000015.png', '0000000020.png']\n"
     ]
    }
   ],
   "source": [
    "# Sample every 5th image from the sorted files. Like image 0, 4, 9, 14....\n",
    "seq_image_paths = sorted(files)\n",
    "seq_image_paths = seq_image_paths[::5]\n",
    "print(len(seq_image_paths))\n",
    "print(seq_image_paths[0:5])"
   ]
  },
  {
   "cell_type": "code",
   "execution_count": 26,
   "metadata": {},
   "outputs": [
    {
     "name": "stdout",
     "output_type": "stream",
     "text": [
      "11518\n"
     ]
    }
   ],
   "source": [
    "latest_file = 'kitti_360_00_full_val.json'\n",
    "with open(latest_file, 'r') as f:\n",
    "    data = json.load(f)\n",
    "\n",
    "\n",
    "print(len(data))"
   ]
  },
  {
   "cell_type": "code",
   "execution_count": 29,
   "metadata": {},
   "outputs": [
    {
     "name": "stdout",
     "output_type": "stream",
     "text": [
      "9105 2413\n",
      "9105\n"
     ]
    }
   ],
   "source": [
    "count_train = 0\n",
    "count_val = 0\n",
    "new_images = []\n",
    "for entry in data:\n",
    "    if not entry['val_set']:\n",
    "        count_train += 1\n",
    "        new_images.append(entry['image'])\n",
    "    else:\n",
    "        count_val += 1\n",
    "\n",
    "\n",
    "print(count_train, count_val)\n",
    "print(len(new_images))\n",
    "\n"
   ]
  },
  {
   "cell_type": "code",
   "execution_count": 32,
   "metadata": {},
   "outputs": [
    {
     "name": "stdout",
     "output_type": "stream",
     "text": [
      "Device: cuda\n",
      "Resume model from checkpoints/best_deeplabv3plus_resnet101_cityscapes_os16.pth\n"
     ]
    },
    {
     "name": "stderr",
     "output_type": "stream",
     "text": [
      "100%|██████████| 9105/9105 [17:37<00:00,  8.61it/s]\n"
     ]
    },
    {
     "name": "stdout",
     "output_type": "stream",
     "text": [
      "Overall average entropy for all images: 0.1508\n",
      "Overall average confidence for all images: 0.9492\n",
      "Saved image and label paths to kitti_360_00_full_filtered.json\n"
     ]
    }
   ],
   "source": [
    "# Generate entropy, confidence, class counts from weaklabelgenerator\n",
    "from weaklabelgenerator_v1 import labelgenerator\n",
    "\n",
    "model_name = 'deeplabv3plus_resnet101'\n",
    "ckpt = \"checkpoints/best_deeplabv3plus_resnet101_cityscapes_os16.pth\"\n",
    "teacher_model = network.modeling.__dict__[model_name](num_classes=19, output_stride=16)\n",
    "model = network.modeling.__dict__[model_name](num_classes=19, output_stride=16)\n",
    "\n",
    "# Starting weaklabeling\n",
    "filtered_samples, train_labelgen = labelgenerator(imagefilepaths=new_images, model=model, ckpt=ckpt)"
   ]
  },
  {
   "cell_type": "code",
   "execution_count": 33,
   "metadata": {},
   "outputs": [],
   "source": [
    "\n",
    "with open('kitti_360_00_full_filtered.json', 'r') as f:\n",
    "    filtered_data = json.load(f)"
   ]
  },
  {
   "cell_type": "code",
   "execution_count": 34,
   "metadata": {},
   "outputs": [
    {
     "data": {
      "text/plain": [
       "9105"
      ]
     },
     "execution_count": 34,
     "metadata": {},
     "output_type": "execute_result"
    }
   ],
   "source": [
    "len(filtered_data)"
   ]
  },
  {
   "cell_type": "code",
   "execution_count": 35,
   "metadata": {},
   "outputs": [],
   "source": [
    "\n",
    "image_paths_2k = random.sample(filtered_data, 2000)\n",
    "\n",
    "# seq_image_paths = sorted(files)\n",
    "# seq_image_paths = seq_image_paths[::5]\n",
    "\n"
   ]
  },
  {
   "cell_type": "code",
   "execution_count": 39,
   "metadata": {},
   "outputs": [
    {
     "name": "stdout",
     "output_type": "stream",
     "text": [
      "2000\n",
      "[{'image_path': 'datasets/data/KITTI-360/data_2d_raw/2013_05_28_drive_0000_sync/image_00/data_rect/0000010550.png', 'entropy': 0.05401115491986275, 'confidence': 0.9826192259788513, 'num_classes': 10}, {'image_path': 'datasets/data/KITTI-360/data_2d_raw/2013_05_28_drive_0000_sync/image_00/data_rect/0000000104.png', 'entropy': 0.14523471891880035, 'confidence': 0.9511430859565735, 'num_classes': 13}, {'image_path': 'datasets/data/KITTI-360/data_2d_raw/2013_05_28_drive_0000_sync/image_00/data_rect/0000011190.png', 'entropy': 0.19926035404205322, 'confidence': 0.9372466206550598, 'num_classes': 12}, {'image_path': 'datasets/data/KITTI-360/data_2d_raw/2013_05_28_drive_0000_sync/image_00/data_rect/0000004275.png', 'entropy': 0.21424955129623413, 'confidence': 0.9234609603881836, 'num_classes': 12}, {'image_path': 'datasets/data/KITTI-360/data_2d_raw/2013_05_28_drive_0000_sync/image_00/data_rect/0000006287.png', 'entropy': 0.12285968661308289, 'confidence': 0.9571988582611084, 'num_classes': 12}]\n"
     ]
    }
   ],
   "source": [
    "print(len(image_paths_2k))\n",
    "print(image_paths_2k[0:5])\n",
    "\n",
    "json_name ='kitti_360_00_2k_random.json'\n",
    "with open(json_name, 'w') as f:\n",
    "    json.dump(image_paths_2k, f, indent=4)"
   ]
  },
  {
   "cell_type": "code",
   "execution_count": 40,
   "metadata": {},
   "outputs": [
    {
     "data": {
      "text/plain": [
       "[{'image_path': 'datasets/data/KITTI-360/data_2d_raw/2013_05_28_drive_0000_sync/image_00/data_rect/0000000000.png',\n",
       "  'entropy': 0.13571812212467194,\n",
       "  'confidence': 0.9538878798484802,\n",
       "  'num_classes': 10},\n",
       " {'image_path': 'datasets/data/KITTI-360/data_2d_raw/2013_05_28_drive_0000_sync/image_00/data_rect/0000000001.png',\n",
       "  'entropy': 0.13995672762393951,\n",
       "  'confidence': 0.9519590139389038,\n",
       "  'num_classes': 9},\n",
       " {'image_path': 'datasets/data/KITTI-360/data_2d_raw/2013_05_28_drive_0000_sync/image_00/data_rect/0000000002.png',\n",
       "  'entropy': 0.14549696445465088,\n",
       "  'confidence': 0.9502736330032349,\n",
       "  'num_classes': 9},\n",
       " {'image_path': 'datasets/data/KITTI-360/data_2d_raw/2013_05_28_drive_0000_sync/image_00/data_rect/0000000003.png',\n",
       "  'entropy': 0.1455216258764267,\n",
       "  'confidence': 0.9502925872802734,\n",
       "  'num_classes': 9},\n",
       " {'image_path': 'datasets/data/KITTI-360/data_2d_raw/2013_05_28_drive_0000_sync/image_00/data_rect/0000000004.png',\n",
       "  'entropy': 0.15189900994300842,\n",
       "  'confidence': 0.9489704370498657,\n",
       "  'num_classes': 9}]"
      ]
     },
     "execution_count": 40,
     "metadata": {},
     "output_type": "execute_result"
    }
   ],
   "source": [
    "filtered_data[0:5]"
   ]
  },
  {
   "cell_type": "code",
   "execution_count": 41,
   "metadata": {},
   "outputs": [
    {
     "name": "stdout",
     "output_type": "stream",
     "text": [
      "1821\n",
      "[{'image_path': 'datasets/data/KITTI-360/data_2d_raw/2013_05_28_drive_0000_sync/image_00/data_rect/0000000000.png', 'entropy': 0.13571812212467194, 'confidence': 0.9538878798484802, 'num_classes': 10}, {'image_path': 'datasets/data/KITTI-360/data_2d_raw/2013_05_28_drive_0000_sync/image_00/data_rect/0000000005.png', 'entropy': 0.15387742221355438, 'confidence': 0.9474475383758545, 'num_classes': 9}, {'image_path': 'datasets/data/KITTI-360/data_2d_raw/2013_05_28_drive_0000_sync/image_00/data_rect/0000000010.png', 'entropy': 0.16455146670341492, 'confidence': 0.9431623816490173, 'num_classes': 10}, {'image_path': 'datasets/data/KITTI-360/data_2d_raw/2013_05_28_drive_0000_sync/image_00/data_rect/0000000015.png', 'entropy': 0.15756496787071228, 'confidence': 0.9463582634925842, 'num_classes': 11}, {'image_path': 'datasets/data/KITTI-360/data_2d_raw/2013_05_28_drive_0000_sync/image_00/data_rect/0000000020.png', 'entropy': 0.1493283361196518, 'confidence': 0.9486227035522461, 'num_classes': 10}]\n"
     ]
    }
   ],
   "source": [
    "seq_image_paths = filtered_data[::5]\n",
    "print(len(seq_image_paths))\n",
    "print(seq_image_paths[0:5])"
   ]
  },
  {
   "cell_type": "code",
   "execution_count": 42,
   "metadata": {},
   "outputs": [],
   "source": [
    "seq_json_name = 'kitti_360_00_2k_seq.json'\n",
    "with open(seq_json_name, 'w') as f:\n",
    "    json.dump(seq_image_paths, f, indent=4)"
   ]
  },
  {
   "cell_type": "code",
   "execution_count": 73,
   "metadata": {},
   "outputs": [
    {
     "name": "stdout",
     "output_type": "stream",
     "text": [
      "Total entries: 9105\n",
      "Filtered entries: 2161\n"
     ]
    }
   ],
   "source": [
    "import json\n",
    "import numpy as np\n",
    "\n",
    "def filter_rich_data(json_file_path, entropy_threshold=0.20, confidence_threshold=0.85, min_class_count=1):\n",
    "    # Load the JSON file\n",
    "    with open(json_file_path, 'r') as file:\n",
    "        data = json.load(file)\n",
    "\n",
    "    # Filter entries based on confidence and class count\n",
    "    filtered_data = [\n",
    "        entry for entry in data \n",
    "        if float(entry[\"entropy\"]) >= entropy_threshold \n",
    "        # if float(entry['confidence']) >= confidence_threshold \n",
    "        and int(entry['num_classes']) >= min_class_count\n",
    "    ]\n",
    "\n",
    "    # Sort the filtered data by entropy (descending) to prioritize rich data representation\n",
    "    filtered_data.sort(key=lambda x: float(x['entropy']), reverse=True)\n",
    "\n",
    "    print(f\"Total entries: {len(data)}\")\n",
    "    print(f\"Filtered entries: {len(filtered_data)}\")\n",
    "\n",
    "    return filtered_data\n",
    "\n",
    "# Usage\n",
    "json_file_path = 'kitti_360_00_full_detailed.json'\n",
    "filtered_entries = filter_rich_data(json_file_path, entropy_threshold=0.19, confidence_threshold=0.8, min_class_count=1)\n",
    "\n",
    "# print(len(filtered_entries))\n",
    "# Optionally, save the filtered entries to a new JSON file\n",
    "if filtered_entries:\n",
    "    with open('kitti_360_00_filtered.json', 'w') as file:\n",
    "        json.dump(filtered_entries, file, indent=4)\n",
    "    # print(f\"Filtered data saved to 'outputs/weaklabels/KITTI-360/filtered_data.json'\")\n",
    "else:\n",
    "    print(\"No entries matched the filter criteria.\")"
   ]
  },
  {
   "cell_type": "code",
   "execution_count": 74,
   "metadata": {},
   "outputs": [],
   "source": [
    "with open('kitti_360_00_2k_random.json', 'r') as f:\n",
    "    data = json.load(f)\n",
    "\n",
    "for entry in data:\n",
    "    entry['val_set'] = False\n",
    "\n",
    "with open('kitti_360_00_2k_random.json', 'w') as f:\n",
    "    json.dump(data, f, indent=4)\n",
    "\n",
    "with open('kitti_360_00_2k_seq.json', 'r') as f:\n",
    "    data = json.load(f)\n",
    "\n",
    "for entry in data:\n",
    "    entry['val_set'] = False\n",
    "\n",
    "with open('kitti_360_00_2k_seq.json', 'w') as f:\n",
    "    json.dump(data, f, indent=4)\n",
    "\n",
    "with open('kitti_360_00_filtered.json', 'r') as f:\n",
    "    data = json.load(f)\n",
    "\n",
    "for entry in data:\n",
    "    entry['val_set'] = False\n",
    "\n",
    "with open('kitti_360_00_filtered.json', 'w') as f:\n",
    "    json.dump(data, f, indent=4)\n",
    "\n"
   ]
  },
  {
   "cell_type": "code",
   "execution_count": null,
   "metadata": {},
   "outputs": [],
   "source": []
  }
 ],
 "metadata": {
  "kernelspec": {
   "display_name": "lab",
   "language": "python",
   "name": "python3"
  },
  "language_info": {
   "codemirror_mode": {
    "name": "ipython",
    "version": 3
   },
   "file_extension": ".py",
   "mimetype": "text/x-python",
   "name": "python",
   "nbconvert_exporter": "python",
   "pygments_lexer": "ipython3",
   "version": "3.8.19"
  }
 },
 "nbformat": 4,
 "nbformat_minor": 2
}
